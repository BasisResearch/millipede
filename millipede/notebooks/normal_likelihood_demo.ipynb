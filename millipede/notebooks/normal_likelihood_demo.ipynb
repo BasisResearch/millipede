{
 "cells": [
  {
   "cell_type": "markdown",
   "metadata": {},
   "source": [
    "# Usage demo for NormalLikelihoodVariableSelector"
   ]
  },
  {
   "cell_type": "code",
   "execution_count": 2,
   "metadata": {},
   "outputs": [],
   "source": [
    "import numpy as np\n",
    "import pandas as pd\n",
    "from millipede import NormalLikelihoodVariableSelector"
   ]
  },
  {
   "cell_type": "markdown",
   "metadata": {},
   "source": [
    "## First we create a demo dataset with 3 causal and 97 spurious features"
   ]
  },
  {
   "cell_type": "code",
   "execution_count": 7,
   "metadata": {},
   "outputs": [
    {
     "name": "stdout",
     "output_type": "stream",
     "text": [
      "true_coefficient:\n",
      " [ 1.   -0.5   0.25  0.    0.    0.    0.    0.    0.    0.    0.    0.\n",
      "  0.    0.    0.    0.    0.    0.    0.    0.    0.    0.    0.    0.\n",
      "  0.    0.    0.    0.    0.    0.    0.    0.    0.    0.    0.    0.\n",
      "  0.    0.    0.    0.    0.    0.    0.    0.    0.    0.    0.    0.\n",
      "  0.    0.    0.    0.    0.    0.    0.    0.    0.    0.    0.    0.\n",
      "  0.    0.    0.    0.    0.    0.    0.    0.    0.    0.    0.    0.\n",
      "  0.    0.    0.    0.    0.    0.    0.    0.    0.    0.    0.    0.\n",
      "  0.    0.    0.    0.    0.    0.    0.    0.    0.    0.    0.    0.\n",
      "  0.    0.    0.    0.  ]\n"
     ]
    }
   ],
   "source": [
    "num_datapoints = 50\n",
    "num_covariates = 100\n",
    "X = np.random.RandomState(0).randn(num_datapoints * num_covariates)\n",
    "X = X.reshape((num_datapoints, num_covariates))\n",
    "\n",
    "true_coefficient = np.array([1.0, -0.5, 0.25] + [0.0] * 97)\n",
    "print(\"true_coefficient:\\n\", true_coefficient)"
   ]
  },
  {
   "cell_type": "code",
   "execution_count": 17,
   "metadata": {},
   "outputs": [
    {
     "name": "stdout",
     "output_type": "stream",
     "text": [
      "X.shape:  (50, 100)   Y.shape:  (50,)   XY.shape:  (50, 101)\n"
     ]
    }
   ],
   "source": [
    "observation_noise = 0.3\n",
    "Y = X @ true_coefficient + observation_noise * np.random.RandomState(1).randn(num_datapoints)\n",
    "XY = np.concatenate([X, Y[:, None]], axis=-1)\n",
    "print(\"X.shape: \", X.shape, \"  Y.shape: \", Y.shape, \"  XY.shape: \", XY.shape)"
   ]
  },
  {
   "cell_type": "markdown",
   "metadata": {},
   "source": [
    "## Then we package it as a Pandas DataFrame"
   ]
  },
  {
   "cell_type": "code",
   "execution_count": 23,
   "metadata": {},
   "outputs": [
    {
     "data": {
      "text/html": [
       "<div>\n",
       "<style scoped>\n",
       "    .dataframe tbody tr th:only-of-type {\n",
       "        vertical-align: middle;\n",
       "    }\n",
       "\n",
       "    .dataframe tbody tr th {\n",
       "        vertical-align: top;\n",
       "    }\n",
       "\n",
       "    .dataframe thead th {\n",
       "        text-align: right;\n",
       "    }\n",
       "</style>\n",
       "<table border=\"1\" class=\"dataframe\">\n",
       "  <thead>\n",
       "    <tr style=\"text-align: right;\">\n",
       "      <th></th>\n",
       "      <th>Causal1</th>\n",
       "      <th>Causal2</th>\n",
       "      <th>Causal3</th>\n",
       "      <th>Spurious1</th>\n",
       "      <th>Spurious2</th>\n",
       "      <th>Spurious3</th>\n",
       "      <th>Spurious4</th>\n",
       "      <th>Spurious5</th>\n",
       "      <th>Spurious6</th>\n",
       "      <th>Spurious7</th>\n",
       "      <th>...</th>\n",
       "      <th>Spurious89</th>\n",
       "      <th>Spurious90</th>\n",
       "      <th>Spurious91</th>\n",
       "      <th>Spurious92</th>\n",
       "      <th>Spurious93</th>\n",
       "      <th>Spurious94</th>\n",
       "      <th>Spurious95</th>\n",
       "      <th>Spurious96</th>\n",
       "      <th>Spurious97</th>\n",
       "      <th>Response</th>\n",
       "    </tr>\n",
       "  </thead>\n",
       "  <tbody>\n",
       "    <tr>\n",
       "      <th>0</th>\n",
       "      <td>1.764052</td>\n",
       "      <td>0.400157</td>\n",
       "      <td>0.978738</td>\n",
       "      <td>2.240893</td>\n",
       "      <td>1.867558</td>\n",
       "      <td>-0.977278</td>\n",
       "      <td>0.950088</td>\n",
       "      <td>-0.151357</td>\n",
       "      <td>-0.103219</td>\n",
       "      <td>0.410599</td>\n",
       "      <td>...</td>\n",
       "      <td>1.222445</td>\n",
       "      <td>0.208275</td>\n",
       "      <td>0.976639</td>\n",
       "      <td>0.356366</td>\n",
       "      <td>0.706573</td>\n",
       "      <td>0.010500</td>\n",
       "      <td>1.785870</td>\n",
       "      <td>0.126912</td>\n",
       "      <td>0.401989</td>\n",
       "      <td>2.295962</td>\n",
       "    </tr>\n",
       "    <tr>\n",
       "      <th>1</th>\n",
       "      <td>1.883151</td>\n",
       "      <td>-1.347759</td>\n",
       "      <td>-1.270485</td>\n",
       "      <td>0.969397</td>\n",
       "      <td>-1.173123</td>\n",
       "      <td>1.943621</td>\n",
       "      <td>-0.413619</td>\n",
       "      <td>-0.747455</td>\n",
       "      <td>1.922942</td>\n",
       "      <td>1.480515</td>\n",
       "      <td>...</td>\n",
       "      <td>0.267051</td>\n",
       "      <td>-0.039283</td>\n",
       "      <td>-1.168093</td>\n",
       "      <td>0.523277</td>\n",
       "      <td>-0.171546</td>\n",
       "      <td>0.771791</td>\n",
       "      <td>0.823504</td>\n",
       "      <td>2.163236</td>\n",
       "      <td>1.336528</td>\n",
       "      <td>2.055882</td>\n",
       "    </tr>\n",
       "    <tr>\n",
       "      <th>2</th>\n",
       "      <td>-0.369182</td>\n",
       "      <td>-0.239379</td>\n",
       "      <td>1.099660</td>\n",
       "      <td>0.655264</td>\n",
       "      <td>0.640132</td>\n",
       "      <td>-1.616956</td>\n",
       "      <td>-0.024326</td>\n",
       "      <td>-0.738031</td>\n",
       "      <td>0.279925</td>\n",
       "      <td>-0.098150</td>\n",
       "      <td>...</td>\n",
       "      <td>-0.481027</td>\n",
       "      <td>2.303917</td>\n",
       "      <td>-1.060016</td>\n",
       "      <td>-0.135950</td>\n",
       "      <td>1.136891</td>\n",
       "      <td>0.097725</td>\n",
       "      <td>0.582954</td>\n",
       "      <td>-0.399449</td>\n",
       "      <td>0.370056</td>\n",
       "      <td>-0.133029</td>\n",
       "    </tr>\n",
       "    <tr>\n",
       "      <th>3</th>\n",
       "      <td>-1.306527</td>\n",
       "      <td>1.658131</td>\n",
       "      <td>-0.118164</td>\n",
       "      <td>-0.680178</td>\n",
       "      <td>0.666383</td>\n",
       "      <td>-0.460720</td>\n",
       "      <td>-1.334258</td>\n",
       "      <td>-1.346718</td>\n",
       "      <td>0.693773</td>\n",
       "      <td>-0.159573</td>\n",
       "      <td>...</td>\n",
       "      <td>-0.222675</td>\n",
       "      <td>-0.353432</td>\n",
       "      <td>-1.616474</td>\n",
       "      <td>-0.291837</td>\n",
       "      <td>-0.761492</td>\n",
       "      <td>0.857924</td>\n",
       "      <td>1.141102</td>\n",
       "      <td>1.466579</td>\n",
       "      <td>0.852552</td>\n",
       "      <td>-2.487024</td>\n",
       "    </tr>\n",
       "    <tr>\n",
       "      <th>4</th>\n",
       "      <td>-0.598654</td>\n",
       "      <td>-1.115897</td>\n",
       "      <td>0.766663</td>\n",
       "      <td>0.356293</td>\n",
       "      <td>-1.768538</td>\n",
       "      <td>0.355482</td>\n",
       "      <td>0.814520</td>\n",
       "      <td>0.058926</td>\n",
       "      <td>-0.185054</td>\n",
       "      <td>-0.807648</td>\n",
       "      <td>...</td>\n",
       "      <td>-0.349943</td>\n",
       "      <td>1.100284</td>\n",
       "      <td>1.298022</td>\n",
       "      <td>2.696224</td>\n",
       "      <td>-0.073925</td>\n",
       "      <td>-0.658553</td>\n",
       "      <td>-0.514234</td>\n",
       "      <td>-1.018042</td>\n",
       "      <td>-0.077855</td>\n",
       "      <td>0.410583</td>\n",
       "    </tr>\n",
       "  </tbody>\n",
       "</table>\n",
       "<p>5 rows × 101 columns</p>\n",
       "</div>"
      ],
      "text/plain": [
       "    Causal1   Causal2   Causal3  Spurious1  Spurious2  Spurious3  Spurious4  \\\n",
       "0  1.764052  0.400157  0.978738   2.240893   1.867558  -0.977278   0.950088   \n",
       "1  1.883151 -1.347759 -1.270485   0.969397  -1.173123   1.943621  -0.413619   \n",
       "2 -0.369182 -0.239379  1.099660   0.655264   0.640132  -1.616956  -0.024326   \n",
       "3 -1.306527  1.658131 -0.118164  -0.680178   0.666383  -0.460720  -1.334258   \n",
       "4 -0.598654 -1.115897  0.766663   0.356293  -1.768538   0.355482   0.814520   \n",
       "\n",
       "   Spurious5  Spurious6  Spurious7  ...  Spurious89  Spurious90  Spurious91  \\\n",
       "0  -0.151357  -0.103219   0.410599  ...    1.222445    0.208275    0.976639   \n",
       "1  -0.747455   1.922942   1.480515  ...    0.267051   -0.039283   -1.168093   \n",
       "2  -0.738031   0.279925  -0.098150  ...   -0.481027    2.303917   -1.060016   \n",
       "3  -1.346718   0.693773  -0.159573  ...   -0.222675   -0.353432   -1.616474   \n",
       "4   0.058926  -0.185054  -0.807648  ...   -0.349943    1.100284    1.298022   \n",
       "\n",
       "   Spurious92  Spurious93  Spurious94  Spurious95  Spurious96  Spurious97  \\\n",
       "0    0.356366    0.706573    0.010500    1.785870    0.126912    0.401989   \n",
       "1    0.523277   -0.171546    0.771791    0.823504    2.163236    1.336528   \n",
       "2   -0.135950    1.136891    0.097725    0.582954   -0.399449    0.370056   \n",
       "3   -0.291837   -0.761492    0.857924    1.141102    1.466579    0.852552   \n",
       "4    2.696224   -0.073925   -0.658553   -0.514234   -1.018042   -0.077855   \n",
       "\n",
       "   Response  \n",
       "0  2.295962  \n",
       "1  2.055882  \n",
       "2 -0.133029  \n",
       "3 -2.487024  \n",
       "4  0.410583  \n",
       "\n",
       "[5 rows x 101 columns]"
      ]
     },
     "execution_count": 23,
     "metadata": {},
     "output_type": "execute_result"
    }
   ],
   "source": [
    "columns = ['Causal1', 'Causal2', 'Causal3']\n",
    "columns += ['Spurious{}'.format(k) for k in range(1, 98)]\n",
    "columns += ['Response']\n",
    "dataframe = pd.DataFrame(XY, columns=columns)\n",
    "dataframe.head(5)"
   ]
  },
  {
   "cell_type": "markdown",
   "metadata": {},
   "source": [
    "## Next we create a VariableSelector object appropriate for our continuous-valued responses"
   ]
  },
  {
   "cell_type": "code",
   "execution_count": 24,
   "metadata": {},
   "outputs": [
    {
     "name": "stdout",
     "output_type": "stream",
     "text": [
      "Initialized NormalLikelihoodSampler with isotropic prior and (N, P, S, tau) = (50, 100, 1.0, 0.010)\n"
     ]
    }
   ],
   "source": [
    "selector = NormalLikelihoodVariableSelector(dataframe, # pass in the data\n",
    "                                            'Response', # indicate the column of responses\n",
    "                                            S=1, # specify the expected number of causal covariates a priori\n",
    "                                            prior=\"isotropic\" # specify the prior over the coefficients\n",
    "                                           )"
   ]
  },
  {
   "cell_type": "markdown",
   "metadata": {},
   "source": [
    "## Finally we run the MCMC algorithm to compute posterior inclusion probabilities (PIPs) and other quanties of interest"
   ]
  },
  {
   "cell_type": "code",
   "execution_count": 25,
   "metadata": {},
   "outputs": [
    {
     "name": "stdout",
     "output_type": "stream",
     "text": [
      "[Iteration 1499]\t# of active features: 4   mean iteration time: 0.86 ms\n"
     ]
    }
   ],
   "source": [
    "selector.run(T=1000, T_burnin=500, verbose=False, seed=2)"
   ]
  },
  {
   "cell_type": "markdown",
   "metadata": {},
   "source": [
    "## The results are available in the selector.summary DataFrame\n",
    "\n",
    "- As expected only 3 causal covariates were assigned large PIPs. \n",
    "- In addition the true coefficients were identified correctly (up to noise).\n",
    "- Note that the intercept term does not have a corresponding PIP, since it is always included in the model by assumption."
   ]
  },
  {
   "cell_type": "code",
   "execution_count": 27,
   "metadata": {},
   "outputs": [
    {
     "data": {
      "text/html": [
       "<div>\n",
       "<style scoped>\n",
       "    .dataframe tbody tr th:only-of-type {\n",
       "        vertical-align: middle;\n",
       "    }\n",
       "\n",
       "    .dataframe tbody tr th {\n",
       "        vertical-align: top;\n",
       "    }\n",
       "\n",
       "    .dataframe thead th {\n",
       "        text-align: right;\n",
       "    }\n",
       "</style>\n",
       "<table border=\"1\" class=\"dataframe\">\n",
       "  <thead>\n",
       "    <tr style=\"text-align: right;\">\n",
       "      <th></th>\n",
       "      <th>PIP</th>\n",
       "      <th>Coefficient StdDev</th>\n",
       "      <th>Coefficient</th>\n",
       "      <th>Conditional Coefficient</th>\n",
       "    </tr>\n",
       "  </thead>\n",
       "  <tbody>\n",
       "    <tr>\n",
       "      <th>Causal1</th>\n",
       "      <td>1.000000</td>\n",
       "      <td>1.034942</td>\n",
       "      <td>0.009100</td>\n",
       "      <td>1.034942</td>\n",
       "    </tr>\n",
       "    <tr>\n",
       "      <th>Causal2</th>\n",
       "      <td>0.999996</td>\n",
       "      <td>-0.451010</td>\n",
       "      <td>0.002860</td>\n",
       "      <td>-0.451011</td>\n",
       "    </tr>\n",
       "    <tr>\n",
       "      <th>Causal3</th>\n",
       "      <td>0.820852</td>\n",
       "      <td>0.181283</td>\n",
       "      <td>0.083550</td>\n",
       "      <td>0.219711</td>\n",
       "    </tr>\n",
       "    <tr>\n",
       "      <th>Spurious1</th>\n",
       "      <td>0.000298</td>\n",
       "      <td>0.000013</td>\n",
       "      <td>0.000804</td>\n",
       "      <td>0.048916</td>\n",
       "    </tr>\n",
       "    <tr>\n",
       "      <th>Spurious2</th>\n",
       "      <td>0.000780</td>\n",
       "      <td>0.000126</td>\n",
       "      <td>0.003371</td>\n",
       "      <td>0.089460</td>\n",
       "    </tr>\n",
       "    <tr>\n",
       "      <th>...</th>\n",
       "      <td>...</td>\n",
       "      <td>...</td>\n",
       "      <td>...</td>\n",
       "      <td>...</td>\n",
       "    </tr>\n",
       "    <tr>\n",
       "      <th>Spurious94</th>\n",
       "      <td>0.000181</td>\n",
       "      <td>0.000005</td>\n",
       "      <td>0.000459</td>\n",
       "      <td>0.040419</td>\n",
       "    </tr>\n",
       "    <tr>\n",
       "      <th>Spurious95</th>\n",
       "      <td>0.000149</td>\n",
       "      <td>-0.000001</td>\n",
       "      <td>0.000097</td>\n",
       "      <td>-0.004919</td>\n",
       "    </tr>\n",
       "    <tr>\n",
       "      <th>Spurious96</th>\n",
       "      <td>0.000192</td>\n",
       "      <td>0.000001</td>\n",
       "      <td>0.000354</td>\n",
       "      <td>0.006722</td>\n",
       "    </tr>\n",
       "    <tr>\n",
       "      <th>Spurious97</th>\n",
       "      <td>0.000198</td>\n",
       "      <td>0.000001</td>\n",
       "      <td>0.000273</td>\n",
       "      <td>0.007652</td>\n",
       "    </tr>\n",
       "    <tr>\n",
       "      <th>intercept</th>\n",
       "      <td>NaN</td>\n",
       "      <td>0.011493</td>\n",
       "      <td>0.006733</td>\n",
       "      <td>0.011493</td>\n",
       "    </tr>\n",
       "  </tbody>\n",
       "</table>\n",
       "<p>101 rows × 4 columns</p>\n",
       "</div>"
      ],
      "text/plain": [
       "                 PIP  Coefficient StdDev  Coefficient  Conditional Coefficient\n",
       "Causal1     1.000000            1.034942     0.009100                 1.034942\n",
       "Causal2     0.999996           -0.451010     0.002860                -0.451011\n",
       "Causal3     0.820852            0.181283     0.083550                 0.219711\n",
       "Spurious1   0.000298            0.000013     0.000804                 0.048916\n",
       "Spurious2   0.000780            0.000126     0.003371                 0.089460\n",
       "...              ...                 ...          ...                      ...\n",
       "Spurious94  0.000181            0.000005     0.000459                 0.040419\n",
       "Spurious95  0.000149           -0.000001     0.000097                -0.004919\n",
       "Spurious96  0.000192            0.000001     0.000354                 0.006722\n",
       "Spurious97  0.000198            0.000001     0.000273                 0.007652\n",
       "intercept        NaN            0.011493     0.006733                 0.011493\n",
       "\n",
       "[101 rows x 4 columns]"
      ]
     },
     "execution_count": 27,
     "metadata": {},
     "output_type": "execute_result"
    }
   ],
   "source": [
    "selector.summary"
   ]
  },
  {
   "cell_type": "markdown",
   "metadata": {},
   "source": [
    "Some additional stats about the MCMC run are available in selector.stats"
   ]
  },
  {
   "cell_type": "code",
   "execution_count": 29,
   "metadata": {},
   "outputs": [
    {
     "data": {
      "text/plain": [
       "{'Weight quantiles': '5/10/20/50/90/95:  9.52e-17  3.54e-06  3.03e-01  8.48e+00  1.24e+01  1.24e+01',\n",
       " 'Weight moments': 'mean/std/min/max:  6.34e+00  5.63e+00  9.52e-17  1.24e+01',\n",
       " 'Elapsed MCMC time': '1.3 seconds',\n",
       " 'Mean iteration time': '0.870 ms',\n",
       " 'Number of retained samples': 1000,\n",
       " 'Number of burn-in samples': 500}"
      ]
     },
     "execution_count": 29,
     "metadata": {},
     "output_type": "execute_result"
    }
   ],
   "source": [
    "selector.stats"
   ]
  },
  {
   "cell_type": "code",
   "execution_count": null,
   "metadata": {},
   "outputs": [],
   "source": []
  }
 ],
 "metadata": {
  "kernelspec": {
   "display_name": "Python 3",
   "language": "python",
   "name": "python3"
  },
  "language_info": {
   "codemirror_mode": {
    "name": "ipython",
    "version": 3
   },
   "file_extension": ".py",
   "mimetype": "text/x-python",
   "name": "python",
   "nbconvert_exporter": "python",
   "pygments_lexer": "ipython3",
   "version": "3.8.2"
  }
 },
 "nbformat": 4,
 "nbformat_minor": 4
}
