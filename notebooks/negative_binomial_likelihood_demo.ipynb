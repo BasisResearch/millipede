{
 "cells": [
  {
   "cell_type": "markdown",
   "metadata": {},
   "source": [
    "# Usage demo for NegativeBinomialLikelihoodVariableSelector"
   ]
  },
  {
   "cell_type": "code",
   "execution_count": 1,
   "metadata": {},
   "outputs": [],
   "source": [
    "import numpy as np\n",
    "import pandas as pd\n",
    "from millipede import NegativeBinomialLikelihoodVariableSelector"
   ]
  },
  {
   "cell_type": "markdown",
   "metadata": {},
   "source": [
    "## First we create a demo dataset with 3 causal and 97 spurious features"
   ]
  },
  {
   "cell_type": "code",
   "execution_count": 2,
   "metadata": {},
   "outputs": [
    {
     "name": "stdout",
     "output_type": "stream",
     "text": [
      "true_coefficients:\n",
      " [ 1.   -0.5   0.25  0.    0.    0.    0.    0.    0.    0.    0.    0.\n",
      "  0.    0.    0.    0.    0.    0.    0.    0.    0.    0.    0.    0.\n",
      "  0.    0.    0.    0.    0.    0.    0.    0.    0.    0.    0.    0.\n",
      "  0.    0.    0.    0.    0.    0.    0.    0.    0.    0.    0.    0.\n",
      "  0.    0.    0.    0.    0.    0.    0.    0.    0.    0.    0.    0.\n",
      "  0.    0.    0.    0.    0.    0.    0.    0.    0.    0.    0.    0.\n",
      "  0.    0.    0.    0.    0.    0.    0.    0.    0.    0.    0.    0.\n",
      "  0.    0.    0.    0.    0.    0.    0.    0.    0.    0.    0.    0.\n",
      "  0.    0.    0.    0.  ]\n"
     ]
    }
   ],
   "source": [
    "num_datapoints = 250\n",
    "num_covariates = 100\n",
    "\n",
    "# create covariates\n",
    "X = np.random.RandomState(0).randn(num_datapoints * num_covariates)\n",
    "X = X.reshape((num_datapoints, num_covariates))\n",
    "\n",
    "# specify the true causal coefficients\n",
    "true_coefficients = np.array([1.0, -0.5, 0.25] + [0.0] * 97)\n",
    "print(\"true_coefficients:\\n\", true_coefficients)"
   ]
  },
  {
   "cell_type": "code",
   "execution_count": 3,
   "metadata": {},
   "outputs": [
    {
     "name": "stdout",
     "output_type": "stream",
     "text": [
      "Observed counts Y:\n",
      " [33 27  2  0  4  4  1  1  9  0  3  0  5  2  4  4  4  0 14  3  0  5  3  3\n",
      "  7  0  5  1  5  1 15  9  1  0  0  2  4  0  1  0  2  0  1  6  3  7 17  0\n",
      "  4 16  7  4  0 14  1  1 11  1  7  3 35  1  7 11 16  6 32  3  1  1  0  7\n",
      "  0  1 15  1  9  2  5  2  6 10  8  3 40 17  7  2  4  0 14  3 27  1 34  0\n",
      "  4  5  1  0  6  7 13 17  3 10  0  8  0  9  2  2 18  3  2  6  1  2  6 23\n",
      "  4  4 10  0  0 12 11 10  3  0  6  2  2  7  0  2 68  0 20 18  1  2  2 17\n",
      "  7  5 40  3  1  4 28  0  6 21  5  1 11  6  4  0  2  3  7  1  6 50 12  1\n",
      "  2  1  6  5 11  1 10  1 19  0  3  0  1  0  0  2  0  2  6  2  7  6 21  1\n",
      "  4  3  7  0  1  1 27 16  4 21  1 40  0  2  3 36  3  2  3  0 10  2  6  5\n",
      "  1  2 22  1  2  0 21  3  0 11  9  0  0  0  5  3 12  3  3  0  2  2  7  1\n",
      "  1 10  5 20  2  1  9  1 65  8]\n",
      "\n",
      "X.shape:  (250, 100)   Y.shape:  (250,)   psi0.shape:  (250,)   Ypsi0X.shape:  (250, 102)\n"
     ]
    }
   ],
   "source": [
    "# compute responses using a noisy (generalized) linear model\n",
    "true_intercept = 1.23\n",
    "poisson_log_rate = X @ true_coefficients + true_intercept\n",
    "# we add additional noise (and thus additional dispersion in the responses)\n",
    "poisson_log_rate += 0.3 * np.random.RandomState(1).randn(num_datapoints)\n",
    "poisson_rate = np.exp(poisson_log_rate)\n",
    "Y = np.random.RandomState(2).poisson(poisson_rate)\n",
    "print(\"Observed counts Y:\\n\", Y)\n",
    "\n",
    "# put the covariates, responses, and psi0 vector into a single numpy array\n",
    "psi0 = np.zeros(num_datapoints)\n",
    "Ypsi0X = np.concatenate([Y[:, None], psi0[:, None], X], axis=-1)\n",
    "print(\"\\nX.shape: \", X.shape, \"  Y.shape: \", Y.shape, \n",
    "      \"  psi0.shape: \", psi0.shape, \"  Ypsi0X.shape: \", Ypsi0X.shape)"
   ]
  },
  {
   "cell_type": "markdown",
   "metadata": {},
   "source": [
    "## Then we package the data as a Pandas DataFrame, giving each covariate a  unique name"
   ]
  },
  {
   "cell_type": "code",
   "execution_count": 4,
   "metadata": {},
   "outputs": [
    {
     "data": {
      "text/html": [
       "<div>\n",
       "<style scoped>\n",
       "    .dataframe tbody tr th:only-of-type {\n",
       "        vertical-align: middle;\n",
       "    }\n",
       "\n",
       "    .dataframe tbody tr th {\n",
       "        vertical-align: top;\n",
       "    }\n",
       "\n",
       "    .dataframe thead th {\n",
       "        text-align: right;\n",
       "    }\n",
       "</style>\n",
       "<table border=\"1\" class=\"dataframe\">\n",
       "  <thead>\n",
       "    <tr style=\"text-align: right;\">\n",
       "      <th></th>\n",
       "      <th>Response</th>\n",
       "      <th>Psi0</th>\n",
       "      <th>Causal1</th>\n",
       "      <th>Causal2</th>\n",
       "      <th>Causal3</th>\n",
       "      <th>Spurious1</th>\n",
       "      <th>Spurious2</th>\n",
       "      <th>Spurious3</th>\n",
       "      <th>Spurious4</th>\n",
       "      <th>Spurious5</th>\n",
       "      <th>...</th>\n",
       "      <th>Spurious88</th>\n",
       "      <th>Spurious89</th>\n",
       "      <th>Spurious90</th>\n",
       "      <th>Spurious91</th>\n",
       "      <th>Spurious92</th>\n",
       "      <th>Spurious93</th>\n",
       "      <th>Spurious94</th>\n",
       "      <th>Spurious95</th>\n",
       "      <th>Spurious96</th>\n",
       "      <th>Spurious97</th>\n",
       "    </tr>\n",
       "  </thead>\n",
       "  <tbody>\n",
       "    <tr>\n",
       "      <th>0</th>\n",
       "      <td>33.0</td>\n",
       "      <td>0.0</td>\n",
       "      <td>1.764052</td>\n",
       "      <td>0.400157</td>\n",
       "      <td>0.978738</td>\n",
       "      <td>2.240893</td>\n",
       "      <td>1.867558</td>\n",
       "      <td>-0.977278</td>\n",
       "      <td>0.950088</td>\n",
       "      <td>-0.151357</td>\n",
       "      <td>...</td>\n",
       "      <td>-0.403177</td>\n",
       "      <td>1.222445</td>\n",
       "      <td>0.208275</td>\n",
       "      <td>0.976639</td>\n",
       "      <td>0.356366</td>\n",
       "      <td>0.706573</td>\n",
       "      <td>0.010500</td>\n",
       "      <td>1.785870</td>\n",
       "      <td>0.126912</td>\n",
       "      <td>0.401989</td>\n",
       "    </tr>\n",
       "    <tr>\n",
       "      <th>1</th>\n",
       "      <td>27.0</td>\n",
       "      <td>0.0</td>\n",
       "      <td>1.883151</td>\n",
       "      <td>-1.347759</td>\n",
       "      <td>-1.270485</td>\n",
       "      <td>0.969397</td>\n",
       "      <td>-1.173123</td>\n",
       "      <td>1.943621</td>\n",
       "      <td>-0.413619</td>\n",
       "      <td>-0.747455</td>\n",
       "      <td>...</td>\n",
       "      <td>-1.292857</td>\n",
       "      <td>0.267051</td>\n",
       "      <td>-0.039283</td>\n",
       "      <td>-1.168093</td>\n",
       "      <td>0.523277</td>\n",
       "      <td>-0.171546</td>\n",
       "      <td>0.771791</td>\n",
       "      <td>0.823504</td>\n",
       "      <td>2.163236</td>\n",
       "      <td>1.336528</td>\n",
       "    </tr>\n",
       "    <tr>\n",
       "      <th>2</th>\n",
       "      <td>2.0</td>\n",
       "      <td>0.0</td>\n",
       "      <td>-0.369182</td>\n",
       "      <td>-0.239379</td>\n",
       "      <td>1.099660</td>\n",
       "      <td>0.655264</td>\n",
       "      <td>0.640132</td>\n",
       "      <td>-1.616956</td>\n",
       "      <td>-0.024326</td>\n",
       "      <td>-0.738031</td>\n",
       "      <td>...</td>\n",
       "      <td>-0.628088</td>\n",
       "      <td>-0.481027</td>\n",
       "      <td>2.303917</td>\n",
       "      <td>-1.060016</td>\n",
       "      <td>-0.135950</td>\n",
       "      <td>1.136891</td>\n",
       "      <td>0.097725</td>\n",
       "      <td>0.582954</td>\n",
       "      <td>-0.399449</td>\n",
       "      <td>0.370056</td>\n",
       "    </tr>\n",
       "    <tr>\n",
       "      <th>3</th>\n",
       "      <td>0.0</td>\n",
       "      <td>0.0</td>\n",
       "      <td>-1.306527</td>\n",
       "      <td>1.658131</td>\n",
       "      <td>-0.118164</td>\n",
       "      <td>-0.680178</td>\n",
       "      <td>0.666383</td>\n",
       "      <td>-0.460720</td>\n",
       "      <td>-1.334258</td>\n",
       "      <td>-1.346718</td>\n",
       "      <td>...</td>\n",
       "      <td>0.567290</td>\n",
       "      <td>-0.222675</td>\n",
       "      <td>-0.353432</td>\n",
       "      <td>-1.616474</td>\n",
       "      <td>-0.291837</td>\n",
       "      <td>-0.761492</td>\n",
       "      <td>0.857924</td>\n",
       "      <td>1.141102</td>\n",
       "      <td>1.466579</td>\n",
       "      <td>0.852552</td>\n",
       "    </tr>\n",
       "    <tr>\n",
       "      <th>4</th>\n",
       "      <td>4.0</td>\n",
       "      <td>0.0</td>\n",
       "      <td>-0.598654</td>\n",
       "      <td>-1.115897</td>\n",
       "      <td>0.766663</td>\n",
       "      <td>0.356293</td>\n",
       "      <td>-1.768538</td>\n",
       "      <td>0.355482</td>\n",
       "      <td>0.814520</td>\n",
       "      <td>0.058926</td>\n",
       "      <td>...</td>\n",
       "      <td>-1.029935</td>\n",
       "      <td>-0.349943</td>\n",
       "      <td>1.100284</td>\n",
       "      <td>1.298022</td>\n",
       "      <td>2.696224</td>\n",
       "      <td>-0.073925</td>\n",
       "      <td>-0.658553</td>\n",
       "      <td>-0.514234</td>\n",
       "      <td>-1.018042</td>\n",
       "      <td>-0.077855</td>\n",
       "    </tr>\n",
       "  </tbody>\n",
       "</table>\n",
       "<p>5 rows × 102 columns</p>\n",
       "</div>"
      ],
      "text/plain": [
       "   Response  Psi0   Causal1   Causal2   Causal3  Spurious1  Spurious2  \\\n",
       "0      33.0   0.0  1.764052  0.400157  0.978738   2.240893   1.867558   \n",
       "1      27.0   0.0  1.883151 -1.347759 -1.270485   0.969397  -1.173123   \n",
       "2       2.0   0.0 -0.369182 -0.239379  1.099660   0.655264   0.640132   \n",
       "3       0.0   0.0 -1.306527  1.658131 -0.118164  -0.680178   0.666383   \n",
       "4       4.0   0.0 -0.598654 -1.115897  0.766663   0.356293  -1.768538   \n",
       "\n",
       "   Spurious3  Spurious4  Spurious5  ...  Spurious88  Spurious89  Spurious90  \\\n",
       "0  -0.977278   0.950088  -0.151357  ...   -0.403177    1.222445    0.208275   \n",
       "1   1.943621  -0.413619  -0.747455  ...   -1.292857    0.267051   -0.039283   \n",
       "2  -1.616956  -0.024326  -0.738031  ...   -0.628088   -0.481027    2.303917   \n",
       "3  -0.460720  -1.334258  -1.346718  ...    0.567290   -0.222675   -0.353432   \n",
       "4   0.355482   0.814520   0.058926  ...   -1.029935   -0.349943    1.100284   \n",
       "\n",
       "   Spurious91  Spurious92  Spurious93  Spurious94  Spurious95  Spurious96  \\\n",
       "0    0.976639    0.356366    0.706573    0.010500    1.785870    0.126912   \n",
       "1   -1.168093    0.523277   -0.171546    0.771791    0.823504    2.163236   \n",
       "2   -1.060016   -0.135950    1.136891    0.097725    0.582954   -0.399449   \n",
       "3   -1.616474   -0.291837   -0.761492    0.857924    1.141102    1.466579   \n",
       "4    1.298022    2.696224   -0.073925   -0.658553   -0.514234   -1.018042   \n",
       "\n",
       "   Spurious97  \n",
       "0    0.401989  \n",
       "1    1.336528  \n",
       "2    0.370056  \n",
       "3    0.852552  \n",
       "4   -0.077855  \n",
       "\n",
       "[5 rows x 102 columns]"
      ]
     },
     "execution_count": 4,
     "metadata": {},
     "output_type": "execute_result"
    }
   ],
   "source": [
    "columns = ['Response', 'Psi0', 'Causal1', 'Causal2', 'Causal3']\n",
    "columns += ['Spurious{}'.format(k) for k in range(1, 98)]\n",
    "dataframe = pd.DataFrame(Ypsi0X, columns=columns)\n",
    "dataframe.head(5)"
   ]
  },
  {
   "cell_type": "markdown",
   "metadata": {},
   "source": [
    "## Next we create a VariableSelector object appropriate for our count-valued responses"
   ]
  },
  {
   "cell_type": "code",
   "execution_count": 5,
   "metadata": {},
   "outputs": [],
   "source": [
    "selector = NegativeBinomialLikelihoodVariableSelector(dataframe,  # pass in the data\n",
    "                                                      'Response', # indicate the column of responses\n",
    "                                                      'Psi0',     # indicate psi0\n",
    "                                                      S=1,        # specify the expected number of covariates to include a priori\n",
    "                                                     )"
   ]
  },
  {
   "cell_type": "markdown",
   "metadata": {},
   "source": [
    "## Finally we run the MCMC algorithm to compute posterior inclusion probabilities (PIPs) and other quantities of interest"
   ]
  },
  {
   "cell_type": "code",
   "execution_count": 6,
   "metadata": {},
   "outputs": [
    {
     "data": {
      "application/vnd.jupyter.widget-view+json": {
       "model_id": "237296603e5c42838d13d2101ed83dfa",
       "version_major": 2,
       "version_minor": 0
      },
      "text/plain": [
       "  0%|          | 0/3000 [00:00<?, ?it/s]"
      ]
     },
     "metadata": {},
     "output_type": "display_data"
    }
   ],
   "source": [
    "selector.run(T=2000, T_burnin=1000, verbosity='bar', seed=2)"
   ]
  },
  {
   "cell_type": "markdown",
   "metadata": {},
   "source": [
    "## The results are available in the selector.summary DataFrame\n",
    "\n",
    "- As expected only the 3 causal covariates have large PIPs. \n",
    "- In addition the true coefficients are identified correctly (up to noise).\n",
    "- Note that the intercept term does not have a corresponding PIP, since it is always included in the model by assumption."
   ]
  },
  {
   "cell_type": "code",
   "execution_count": 7,
   "metadata": {},
   "outputs": [
    {
     "data": {
      "text/html": [
       "<div>\n",
       "<style scoped>\n",
       "    .dataframe tbody tr th:only-of-type {\n",
       "        vertical-align: middle;\n",
       "    }\n",
       "\n",
       "    .dataframe tbody tr th {\n",
       "        vertical-align: top;\n",
       "    }\n",
       "\n",
       "    .dataframe thead th {\n",
       "        text-align: right;\n",
       "    }\n",
       "</style>\n",
       "<table border=\"1\" class=\"dataframe\">\n",
       "  <thead>\n",
       "    <tr style=\"text-align: right;\">\n",
       "      <th></th>\n",
       "      <th>PIP</th>\n",
       "      <th>Coefficient</th>\n",
       "      <th>Coefficient StdDev</th>\n",
       "      <th>Conditional Coefficient</th>\n",
       "      <th>Conditional Coefficienti StdDev</th>\n",
       "    </tr>\n",
       "  </thead>\n",
       "  <tbody>\n",
       "    <tr>\n",
       "      <th>Causal1</th>\n",
       "      <td>1.000000</td>\n",
       "      <td>1.079945e+00</td>\n",
       "      <td>0.033605</td>\n",
       "      <td>1.079945</td>\n",
       "      <td>0.033605</td>\n",
       "    </tr>\n",
       "    <tr>\n",
       "      <th>Causal2</th>\n",
       "      <td>1.000000</td>\n",
       "      <td>-5.433689e-01</td>\n",
       "      <td>0.036830</td>\n",
       "      <td>-0.543369</td>\n",
       "      <td>0.036830</td>\n",
       "    </tr>\n",
       "    <tr>\n",
       "      <th>Causal3</th>\n",
       "      <td>0.999222</td>\n",
       "      <td>2.093379e-01</td>\n",
       "      <td>0.034774</td>\n",
       "      <td>0.209766</td>\n",
       "      <td>0.033495</td>\n",
       "    </tr>\n",
       "    <tr>\n",
       "      <th>Spurious1</th>\n",
       "      <td>0.000045</td>\n",
       "      <td>7.177131e-07</td>\n",
       "      <td>0.000196</td>\n",
       "      <td>0.016073</td>\n",
       "      <td>0.024538</td>\n",
       "    </tr>\n",
       "    <tr>\n",
       "      <th>Spurious2</th>\n",
       "      <td>0.000036</td>\n",
       "      <td>-2.440187e-07</td>\n",
       "      <td>0.000202</td>\n",
       "      <td>-0.005844</td>\n",
       "      <td>0.030640</td>\n",
       "    </tr>\n",
       "    <tr>\n",
       "      <th>...</th>\n",
       "      <td>...</td>\n",
       "      <td>...</td>\n",
       "      <td>...</td>\n",
       "      <td>...</td>\n",
       "      <td>...</td>\n",
       "    </tr>\n",
       "    <tr>\n",
       "      <th>Spurious94</th>\n",
       "      <td>0.000037</td>\n",
       "      <td>4.787561e-08</td>\n",
       "      <td>0.000215</td>\n",
       "      <td>0.001659</td>\n",
       "      <td>0.040079</td>\n",
       "    </tr>\n",
       "    <tr>\n",
       "      <th>Spurious95</th>\n",
       "      <td>0.000043</td>\n",
       "      <td>-1.791531e-06</td>\n",
       "      <td>0.000281</td>\n",
       "      <td>-0.041918</td>\n",
       "      <td>0.009262</td>\n",
       "    </tr>\n",
       "    <tr>\n",
       "      <th>Spurious96</th>\n",
       "      <td>0.000044</td>\n",
       "      <td>-2.187868e-06</td>\n",
       "      <td>0.000340</td>\n",
       "      <td>-0.031647</td>\n",
       "      <td>0.025892</td>\n",
       "    </tr>\n",
       "    <tr>\n",
       "      <th>Spurious97</th>\n",
       "      <td>0.000058</td>\n",
       "      <td>-2.010359e-06</td>\n",
       "      <td>0.000405</td>\n",
       "      <td>-0.044039</td>\n",
       "      <td>0.040625</td>\n",
       "    </tr>\n",
       "    <tr>\n",
       "      <th>Intercept</th>\n",
       "      <td>NaN</td>\n",
       "      <td>1.213715e+00</td>\n",
       "      <td>0.044086</td>\n",
       "      <td>1.213715</td>\n",
       "      <td>0.044086</td>\n",
       "    </tr>\n",
       "  </tbody>\n",
       "</table>\n",
       "<p>101 rows × 5 columns</p>\n",
       "</div>"
      ],
      "text/plain": [
       "                 PIP   Coefficient  Coefficient StdDev  \\\n",
       "Causal1     1.000000  1.079945e+00            0.033605   \n",
       "Causal2     1.000000 -5.433689e-01            0.036830   \n",
       "Causal3     0.999222  2.093379e-01            0.034774   \n",
       "Spurious1   0.000045  7.177131e-07            0.000196   \n",
       "Spurious2   0.000036 -2.440187e-07            0.000202   \n",
       "...              ...           ...                 ...   \n",
       "Spurious94  0.000037  4.787561e-08            0.000215   \n",
       "Spurious95  0.000043 -1.791531e-06            0.000281   \n",
       "Spurious96  0.000044 -2.187868e-06            0.000340   \n",
       "Spurious97  0.000058 -2.010359e-06            0.000405   \n",
       "Intercept        NaN  1.213715e+00            0.044086   \n",
       "\n",
       "            Conditional Coefficient  Conditional Coefficienti StdDev  \n",
       "Causal1                    1.079945                         0.033605  \n",
       "Causal2                   -0.543369                         0.036830  \n",
       "Causal3                    0.209766                         0.033495  \n",
       "Spurious1                  0.016073                         0.024538  \n",
       "Spurious2                 -0.005844                         0.030640  \n",
       "...                             ...                              ...  \n",
       "Spurious94                 0.001659                         0.040079  \n",
       "Spurious95                -0.041918                         0.009262  \n",
       "Spurious96                -0.031647                         0.025892  \n",
       "Spurious97                -0.044039                         0.040625  \n",
       "Intercept                  1.213715                         0.044086  \n",
       "\n",
       "[101 rows x 5 columns]"
      ]
     },
     "execution_count": 7,
     "metadata": {},
     "output_type": "execute_result"
    }
   ],
   "source": [
    "selector.summary"
   ]
  },
  {
   "cell_type": "markdown",
   "metadata": {},
   "source": [
    "For example the largest spurious PIP is given by:"
   ]
  },
  {
   "cell_type": "code",
   "execution_count": 8,
   "metadata": {},
   "outputs": [
    {
     "data": {
      "text/plain": [
       "0.004228535078251371"
      ]
     },
     "execution_count": 8,
     "metadata": {},
     "output_type": "execute_result"
    }
   ],
   "source": [
    "selector.summary.PIP.values[3:-1].max()"
   ]
  },
  {
   "cell_type": "markdown",
   "metadata": {},
   "source": [
    "Some additional stats about the MCMC run are available in `selector.stats`:"
   ]
  },
  {
   "cell_type": "code",
   "execution_count": 9,
   "metadata": {},
   "outputs": [
    {
     "data": {
      "text/plain": [
       "{'Weight quantiles': '5/10/20/50/90/95:  1.92e-16  1.92e-16  1.23e-01  1.51e+01  1.51e+01  1.51e+01',\n",
       " 'Weight moments': 'mean/std/min/max:  9.38e+00  7.22e+00  6.40e-17  1.51e+01',\n",
       " 'nu posterior': '18.325 +- 4.752',\n",
       " 'log(nu) posterior': '2.872 +- 0.275',\n",
       " 'Elapsed MCMC time': '4.0 seconds',\n",
       " 'Mean iteration time': '1.336 ms',\n",
       " 'Number of retained samples': 2000,\n",
       " 'Number of burn-in samples': 1000,\n",
       " 'Adapted xi value': '2.673',\n",
       " 'Polya-Gamma MH stats': 'Mean acc. prob.: 0.813  Accepted/Attempted: 439/526'}"
      ]
     },
     "execution_count": 9,
     "metadata": {},
     "output_type": "execute_result"
    }
   ],
   "source": [
    "selector.stats"
   ]
  },
  {
   "cell_type": "markdown",
   "metadata": {},
   "source": [
    "In particular `selector.stats` contains information about the posterior for dispersion parameter `nu`:"
   ]
  },
  {
   "cell_type": "code",
   "execution_count": 10,
   "metadata": {},
   "outputs": [
    {
     "data": {
      "text/plain": [
       "'18.325 +- 4.752'"
      ]
     },
     "execution_count": 10,
     "metadata": {},
     "output_type": "execute_result"
    }
   ],
   "source": [
    "selector.stats['nu posterior']"
   ]
  }
 ],
 "metadata": {
  "kernelspec": {
   "display_name": "Python 3",
   "language": "python",
   "name": "python3"
  },
  "language_info": {
   "codemirror_mode": {
    "name": "ipython",
    "version": 3
   },
   "file_extension": ".py",
   "mimetype": "text/x-python",
   "name": "python",
   "nbconvert_exporter": "python",
   "pygments_lexer": "ipython3",
   "version": "3.8.2"
  }
 },
 "nbformat": 4,
 "nbformat_minor": 4
}
