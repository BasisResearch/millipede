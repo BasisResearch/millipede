{
 "cells": [
  {
   "cell_type": "markdown",
   "metadata": {},
   "source": [
    "# Usage demo for NormalLikelihoodVariableSelector"
   ]
  },
  {
   "cell_type": "code",
   "execution_count": null,
   "metadata": {},
   "outputs": [],
   "source": [
    "import numpy as np\n",
    "import pandas as pd\n",
    "from millipede import NormalLikelihoodVariableSelector"
   ]
  },
  {
   "cell_type": "markdown",
   "metadata": {},
   "source": [
    "## First we create a demo dataset with 3 causal and 97 spurious features"
   ]
  },
  {
   "cell_type": "code",
   "execution_count": null,
   "metadata": {},
   "outputs": [],
   "source": [
    "num_datapoints = 50\n",
    "num_covariates = 100\n",
    "\n",
    "# create covariates\n",
    "X = np.random.RandomState(0).randn(num_datapoints * num_covariates)\n",
    "X = X.reshape((num_datapoints, num_covariates))\n",
    "\n",
    "# specify the true causal coefficients\n",
    "true_coefficients = np.array([1.0, -0.5, 0.25] + [0.0] * 97)\n",
    "print(\"true_coefficients:\\n\", true_coefficients)"
   ]
  },
  {
   "cell_type": "code",
   "execution_count": null,
   "metadata": {},
   "outputs": [],
   "source": [
    "observation_noise = 0.3\n",
    "# compute responses using the true linear model and add additional observation noise\n",
    "Y = X @ true_coefficients + observation_noise * np.random.RandomState(1).randn(num_datapoints)\n",
    "\n",
    "# put the covariates and responses into a single numpy array\n",
    "YX = np.concatenate([Y[:, None], X], axis=-1)\n",
    "print(\"X.shape: \", X.shape, \"  Y.shape: \", Y.shape, \"  YX.shape: \", YX.shape)"
   ]
  },
  {
   "cell_type": "markdown",
   "metadata": {},
   "source": [
    "## Then we package the data as a Pandas DataFrame, giving each covariate a  unique name"
   ]
  },
  {
   "cell_type": "code",
   "execution_count": null,
   "metadata": {},
   "outputs": [],
   "source": [
    "columns = ['Response', 'Causal1', 'Causal2', 'Causal3']\n",
    "columns += ['Spurious{}'.format(k) for k in range(1, 98)]\n",
    "dataframe = pd.DataFrame(YX, columns=columns)\n",
    "dataframe.head(5)"
   ]
  },
  {
   "cell_type": "markdown",
   "metadata": {},
   "source": [
    "## Next we create a VariableSelector object appropriate for our continuous-valued responses"
   ]
  },
  {
   "cell_type": "code",
   "execution_count": null,
   "metadata": {},
   "outputs": [],
   "source": [
    "selector = NormalLikelihoodVariableSelector(dataframe,  # pass in the data\n",
    "                                            'Response', # indicate the column of responses\n",
    "                                            S=1,        # specify the expected number of covariates included a priori\n",
    "                                            prior=\"isotropic\" # specify the prior over the coefficients\n",
    "                                           )"
   ]
  },
  {
   "cell_type": "markdown",
   "metadata": {},
   "source": [
    "## Finally we run the MCMC algorithm to compute posterior inclusion probabilities (PIPs) and other posterior quantities of interest"
   ]
  },
  {
   "cell_type": "code",
   "execution_count": null,
   "metadata": {},
   "outputs": [],
   "source": [
    "selector.run(T=2000, T_burnin=1000, verbose=False, seed=2)"
   ]
  },
  {
   "cell_type": "markdown",
   "metadata": {},
   "source": [
    "## The results are available in the selector.summary DataFrame\n",
    "\n",
    "- As expected only the 3 causal covariates are assigned large PIPs. \n",
    "- In addition the true coefficients are identified correctly (up to noise).\n",
    "- Note that the intercept term does not have a corresponding PIP, since it is always included in the model by assumption."
   ]
  },
  {
   "cell_type": "code",
   "execution_count": null,
   "metadata": {},
   "outputs": [],
   "source": [
    "selector.summary"
   ]
  },
  {
   "cell_type": "markdown",
   "metadata": {},
   "source": [
    "For example the largest spurious PIP is given by:"
   ]
  },
  {
   "cell_type": "code",
   "execution_count": null,
   "metadata": {},
   "outputs": [],
   "source": [
    "selector.summary.PIP.values[3:-1].max()"
   ]
  },
  {
   "cell_type": "markdown",
   "metadata": {},
   "source": [
    "Some additional stats about the MCMC run are available in `selector.stats`:"
   ]
  },
  {
   "cell_type": "code",
   "execution_count": null,
   "metadata": {},
   "outputs": [],
   "source": [
    "selector.stats"
   ]
  }
 ],
 "metadata": {
  "kernelspec": {
   "display_name": "Python 3",
   "language": "python",
   "name": "python3"
  },
  "language_info": {
   "codemirror_mode": {
    "name": "ipython",
    "version": 3
   },
   "file_extension": ".py",
   "mimetype": "text/x-python",
   "name": "python",
   "nbconvert_exporter": "python",
   "pygments_lexer": "ipython3",
   "version": "3.8.2"
  }
 },
 "nbformat": 4,
 "nbformat_minor": 4
}
