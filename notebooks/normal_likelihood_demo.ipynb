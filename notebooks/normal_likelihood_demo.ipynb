{
 "cells": [
  {
   "cell_type": "markdown",
   "metadata": {},
   "source": [
    "# Usage demo for NormalLikelihoodVariableSelector"
   ]
  },
  {
   "cell_type": "code",
   "execution_count": 1,
   "metadata": {},
   "outputs": [],
   "source": [
    "import numpy as np\n",
    "import pandas as pd\n",
    "from millipede import NormalLikelihoodVariableSelector"
   ]
  },
  {
   "cell_type": "markdown",
   "metadata": {},
   "source": [
    "## First we create a demo dataset with 3 causal and 97 spurious features"
   ]
  },
  {
   "cell_type": "code",
   "execution_count": 2,
   "metadata": {},
   "outputs": [
    {
     "name": "stdout",
     "output_type": "stream",
     "text": [
      "true_coefficients:\n",
      " [ 1.   -0.5   0.25  0.    0.    0.    0.    0.    0.    0.    0.    0.\n",
      "  0.    0.    0.    0.    0.    0.    0.    0.    0.    0.    0.    0.\n",
      "  0.    0.    0.    0.    0.    0.    0.    0.    0.    0.    0.    0.\n",
      "  0.    0.    0.    0.    0.    0.    0.    0.    0.    0.    0.    0.\n",
      "  0.    0.    0.    0.    0.    0.    0.    0.    0.    0.    0.    0.\n",
      "  0.    0.    0.    0.    0.    0.    0.    0.    0.    0.    0.    0.\n",
      "  0.    0.    0.    0.    0.    0.    0.    0.    0.    0.    0.    0.\n",
      "  0.    0.    0.    0.    0.    0.    0.    0.    0.    0.    0.    0.\n",
      "  0.    0.    0.    0.  ]\n"
     ]
    }
   ],
   "source": [
    "num_datapoints = 50\n",
    "num_covariates = 100\n",
    "\n",
    "# create covariates\n",
    "X = np.random.RandomState(0).randn(num_datapoints * num_covariates)\n",
    "X = X.reshape((num_datapoints, num_covariates))\n",
    "\n",
    "# specify the true causal coefficients\n",
    "true_coefficients = np.array([1.0, -0.5, 0.25] + [0.0] * 97)\n",
    "print(\"true_coefficients:\\n\", true_coefficients)"
   ]
  },
  {
   "cell_type": "code",
   "execution_count": 3,
   "metadata": {},
   "outputs": [
    {
     "name": "stdout",
     "output_type": "stream",
     "text": [
      "X.shape:  (50, 100)   Y.shape:  (50,)   YX.shape:  (50, 101)\n"
     ]
    }
   ],
   "source": [
    "observation_noise = 0.3\n",
    "# compute responses using the true linear model and add additional observation noise\n",
    "Y = X @ true_coefficients + observation_noise * np.random.RandomState(1).randn(num_datapoints)\n",
    "\n",
    "# put the covariates and responses into a single numpy array\n",
    "YX = np.concatenate([Y[:, None], X], axis=-1)\n",
    "print(\"X.shape: \", X.shape, \"  Y.shape: \", Y.shape, \"  YX.shape: \", YX.shape)"
   ]
  },
  {
   "cell_type": "markdown",
   "metadata": {},
   "source": [
    "## Then we package the data as a Pandas DataFrame, giving each covariate a  unique name"
   ]
  },
  {
   "cell_type": "code",
   "execution_count": 4,
   "metadata": {},
   "outputs": [
    {
     "data": {
      "text/html": [
       "<div>\n",
       "<style scoped>\n",
       "    .dataframe tbody tr th:only-of-type {\n",
       "        vertical-align: middle;\n",
       "    }\n",
       "\n",
       "    .dataframe tbody tr th {\n",
       "        vertical-align: top;\n",
       "    }\n",
       "\n",
       "    .dataframe thead th {\n",
       "        text-align: right;\n",
       "    }\n",
       "</style>\n",
       "<table border=\"1\" class=\"dataframe\">\n",
       "  <thead>\n",
       "    <tr style=\"text-align: right;\">\n",
       "      <th></th>\n",
       "      <th>Response</th>\n",
       "      <th>Causal1</th>\n",
       "      <th>Causal2</th>\n",
       "      <th>Causal3</th>\n",
       "      <th>Spurious1</th>\n",
       "      <th>Spurious2</th>\n",
       "      <th>Spurious3</th>\n",
       "      <th>Spurious4</th>\n",
       "      <th>Spurious5</th>\n",
       "      <th>Spurious6</th>\n",
       "      <th>...</th>\n",
       "      <th>Spurious88</th>\n",
       "      <th>Spurious89</th>\n",
       "      <th>Spurious90</th>\n",
       "      <th>Spurious91</th>\n",
       "      <th>Spurious92</th>\n",
       "      <th>Spurious93</th>\n",
       "      <th>Spurious94</th>\n",
       "      <th>Spurious95</th>\n",
       "      <th>Spurious96</th>\n",
       "      <th>Spurious97</th>\n",
       "    </tr>\n",
       "  </thead>\n",
       "  <tbody>\n",
       "    <tr>\n",
       "      <th>0</th>\n",
       "      <td>2.295962</td>\n",
       "      <td>1.764052</td>\n",
       "      <td>0.400157</td>\n",
       "      <td>0.978738</td>\n",
       "      <td>2.240893</td>\n",
       "      <td>1.867558</td>\n",
       "      <td>-0.977278</td>\n",
       "      <td>0.950088</td>\n",
       "      <td>-0.151357</td>\n",
       "      <td>-0.103219</td>\n",
       "      <td>...</td>\n",
       "      <td>-0.403177</td>\n",
       "      <td>1.222445</td>\n",
       "      <td>0.208275</td>\n",
       "      <td>0.976639</td>\n",
       "      <td>0.356366</td>\n",
       "      <td>0.706573</td>\n",
       "      <td>0.010500</td>\n",
       "      <td>1.785870</td>\n",
       "      <td>0.126912</td>\n",
       "      <td>0.401989</td>\n",
       "    </tr>\n",
       "    <tr>\n",
       "      <th>1</th>\n",
       "      <td>2.055882</td>\n",
       "      <td>1.883151</td>\n",
       "      <td>-1.347759</td>\n",
       "      <td>-1.270485</td>\n",
       "      <td>0.969397</td>\n",
       "      <td>-1.173123</td>\n",
       "      <td>1.943621</td>\n",
       "      <td>-0.413619</td>\n",
       "      <td>-0.747455</td>\n",
       "      <td>1.922942</td>\n",
       "      <td>...</td>\n",
       "      <td>-1.292857</td>\n",
       "      <td>0.267051</td>\n",
       "      <td>-0.039283</td>\n",
       "      <td>-1.168093</td>\n",
       "      <td>0.523277</td>\n",
       "      <td>-0.171546</td>\n",
       "      <td>0.771791</td>\n",
       "      <td>0.823504</td>\n",
       "      <td>2.163236</td>\n",
       "      <td>1.336528</td>\n",
       "    </tr>\n",
       "    <tr>\n",
       "      <th>2</th>\n",
       "      <td>-0.133029</td>\n",
       "      <td>-0.369182</td>\n",
       "      <td>-0.239379</td>\n",
       "      <td>1.099660</td>\n",
       "      <td>0.655264</td>\n",
       "      <td>0.640132</td>\n",
       "      <td>-1.616956</td>\n",
       "      <td>-0.024326</td>\n",
       "      <td>-0.738031</td>\n",
       "      <td>0.279925</td>\n",
       "      <td>...</td>\n",
       "      <td>-0.628088</td>\n",
       "      <td>-0.481027</td>\n",
       "      <td>2.303917</td>\n",
       "      <td>-1.060016</td>\n",
       "      <td>-0.135950</td>\n",
       "      <td>1.136891</td>\n",
       "      <td>0.097725</td>\n",
       "      <td>0.582954</td>\n",
       "      <td>-0.399449</td>\n",
       "      <td>0.370056</td>\n",
       "    </tr>\n",
       "    <tr>\n",
       "      <th>3</th>\n",
       "      <td>-2.487024</td>\n",
       "      <td>-1.306527</td>\n",
       "      <td>1.658131</td>\n",
       "      <td>-0.118164</td>\n",
       "      <td>-0.680178</td>\n",
       "      <td>0.666383</td>\n",
       "      <td>-0.460720</td>\n",
       "      <td>-1.334258</td>\n",
       "      <td>-1.346718</td>\n",
       "      <td>0.693773</td>\n",
       "      <td>...</td>\n",
       "      <td>0.567290</td>\n",
       "      <td>-0.222675</td>\n",
       "      <td>-0.353432</td>\n",
       "      <td>-1.616474</td>\n",
       "      <td>-0.291837</td>\n",
       "      <td>-0.761492</td>\n",
       "      <td>0.857924</td>\n",
       "      <td>1.141102</td>\n",
       "      <td>1.466579</td>\n",
       "      <td>0.852552</td>\n",
       "    </tr>\n",
       "    <tr>\n",
       "      <th>4</th>\n",
       "      <td>0.410583</td>\n",
       "      <td>-0.598654</td>\n",
       "      <td>-1.115897</td>\n",
       "      <td>0.766663</td>\n",
       "      <td>0.356293</td>\n",
       "      <td>-1.768538</td>\n",
       "      <td>0.355482</td>\n",
       "      <td>0.814520</td>\n",
       "      <td>0.058926</td>\n",
       "      <td>-0.185054</td>\n",
       "      <td>...</td>\n",
       "      <td>-1.029935</td>\n",
       "      <td>-0.349943</td>\n",
       "      <td>1.100284</td>\n",
       "      <td>1.298022</td>\n",
       "      <td>2.696224</td>\n",
       "      <td>-0.073925</td>\n",
       "      <td>-0.658553</td>\n",
       "      <td>-0.514234</td>\n",
       "      <td>-1.018042</td>\n",
       "      <td>-0.077855</td>\n",
       "    </tr>\n",
       "  </tbody>\n",
       "</table>\n",
       "<p>5 rows × 101 columns</p>\n",
       "</div>"
      ],
      "text/plain": [
       "   Response   Causal1   Causal2   Causal3  Spurious1  Spurious2  Spurious3  \\\n",
       "0  2.295962  1.764052  0.400157  0.978738   2.240893   1.867558  -0.977278   \n",
       "1  2.055882  1.883151 -1.347759 -1.270485   0.969397  -1.173123   1.943621   \n",
       "2 -0.133029 -0.369182 -0.239379  1.099660   0.655264   0.640132  -1.616956   \n",
       "3 -2.487024 -1.306527  1.658131 -0.118164  -0.680178   0.666383  -0.460720   \n",
       "4  0.410583 -0.598654 -1.115897  0.766663   0.356293  -1.768538   0.355482   \n",
       "\n",
       "   Spurious4  Spurious5  Spurious6  ...  Spurious88  Spurious89  Spurious90  \\\n",
       "0   0.950088  -0.151357  -0.103219  ...   -0.403177    1.222445    0.208275   \n",
       "1  -0.413619  -0.747455   1.922942  ...   -1.292857    0.267051   -0.039283   \n",
       "2  -0.024326  -0.738031   0.279925  ...   -0.628088   -0.481027    2.303917   \n",
       "3  -1.334258  -1.346718   0.693773  ...    0.567290   -0.222675   -0.353432   \n",
       "4   0.814520   0.058926  -0.185054  ...   -1.029935   -0.349943    1.100284   \n",
       "\n",
       "   Spurious91  Spurious92  Spurious93  Spurious94  Spurious95  Spurious96  \\\n",
       "0    0.976639    0.356366    0.706573    0.010500    1.785870    0.126912   \n",
       "1   -1.168093    0.523277   -0.171546    0.771791    0.823504    2.163236   \n",
       "2   -1.060016   -0.135950    1.136891    0.097725    0.582954   -0.399449   \n",
       "3   -1.616474   -0.291837   -0.761492    0.857924    1.141102    1.466579   \n",
       "4    1.298022    2.696224   -0.073925   -0.658553   -0.514234   -1.018042   \n",
       "\n",
       "   Spurious97  \n",
       "0    0.401989  \n",
       "1    1.336528  \n",
       "2    0.370056  \n",
       "3    0.852552  \n",
       "4   -0.077855  \n",
       "\n",
       "[5 rows x 101 columns]"
      ]
     },
     "execution_count": 4,
     "metadata": {},
     "output_type": "execute_result"
    }
   ],
   "source": [
    "columns = ['Response', 'Causal1', 'Causal2', 'Causal3']\n",
    "columns += ['Spurious{}'.format(k) for k in range(1, 98)]\n",
    "dataframe = pd.DataFrame(YX, columns=columns)\n",
    "dataframe.head(5)"
   ]
  },
  {
   "cell_type": "markdown",
   "metadata": {},
   "source": [
    "## Next we create a VariableSelector object appropriate for our continuous-valued responses"
   ]
  },
  {
   "cell_type": "code",
   "execution_count": 5,
   "metadata": {},
   "outputs": [],
   "source": [
    "selector = NormalLikelihoodVariableSelector(dataframe,  # pass in the data\n",
    "                                            'Response', # indicate the column of responses\n",
    "                                            S=1.0,        # specify the expected number of covariates included a priori\n",
    "                                            prior=\"isotropic\" # specify the prior over the coefficients\n",
    "                                           )"
   ]
  },
  {
   "cell_type": "markdown",
   "metadata": {},
   "source": [
    "## Finally we run the MCMC algorithm to compute posterior inclusion probabilities (PIPs) and other posterior quantities of interest"
   ]
  },
  {
   "cell_type": "code",
   "execution_count": 6,
   "metadata": {},
   "outputs": [
    {
     "data": {
      "application/vnd.jupyter.widget-view+json": {
       "model_id": "6ca275becd134c1db8f8e7deaeb3dd30",
       "version_major": 2,
       "version_minor": 0
      },
      "text/plain": [
       "  0%|          | 0/3000 [00:00<?, ?it/s]"
      ]
     },
     "metadata": {},
     "output_type": "display_data"
    }
   ],
   "source": [
    "selector.run(T=2000, T_burnin=1000, verbosity='bar', seed=2)"
   ]
  },
  {
   "cell_type": "markdown",
   "metadata": {},
   "source": [
    "## The results are available in the selector.summary DataFrame\n",
    "\n",
    "- As expected only the 3 causal covariates have PIPs. \n",
    "- In addition the true coefficients are identified correctly (up to noise).\n",
    "- Note that the intercept term does not have a corresponding PIP, since it is always included in the model by assumption."
   ]
  },
  {
   "cell_type": "code",
   "execution_count": 7,
   "metadata": {},
   "outputs": [
    {
     "data": {
      "text/html": [
       "<div>\n",
       "<style scoped>\n",
       "    .dataframe tbody tr th:only-of-type {\n",
       "        vertical-align: middle;\n",
       "    }\n",
       "\n",
       "    .dataframe tbody tr th {\n",
       "        vertical-align: top;\n",
       "    }\n",
       "\n",
       "    .dataframe thead th {\n",
       "        text-align: right;\n",
       "    }\n",
       "</style>\n",
       "<table border=\"1\" class=\"dataframe\">\n",
       "  <thead>\n",
       "    <tr style=\"text-align: right;\">\n",
       "      <th></th>\n",
       "      <th>PIP</th>\n",
       "      <th>Coefficient</th>\n",
       "      <th>Coefficient StdDev</th>\n",
       "      <th>Conditional Coefficient</th>\n",
       "      <th>Conditional Coefficient StdDev</th>\n",
       "    </tr>\n",
       "  </thead>\n",
       "  <tbody>\n",
       "    <tr>\n",
       "      <th>Causal1</th>\n",
       "      <td>1.000000</td>\n",
       "      <td>1.035825e+00</td>\n",
       "      <td>0.037104</td>\n",
       "      <td>1.035825</td>\n",
       "      <td>0.037104</td>\n",
       "    </tr>\n",
       "    <tr>\n",
       "      <th>Causal2</th>\n",
       "      <td>0.999996</td>\n",
       "      <td>-4.488024e-01</td>\n",
       "      <td>0.050521</td>\n",
       "      <td>-0.448804</td>\n",
       "      <td>0.050514</td>\n",
       "    </tr>\n",
       "    <tr>\n",
       "      <th>Causal3</th>\n",
       "      <td>0.820367</td>\n",
       "      <td>1.801171e-01</td>\n",
       "      <td>0.094278</td>\n",
       "      <td>0.220393</td>\n",
       "      <td>0.044715</td>\n",
       "    </tr>\n",
       "    <tr>\n",
       "      <th>Spurious1</th>\n",
       "      <td>0.000294</td>\n",
       "      <td>1.571512e-05</td>\n",
       "      <td>0.001182</td>\n",
       "      <td>0.045993</td>\n",
       "      <td>0.044455</td>\n",
       "    </tr>\n",
       "    <tr>\n",
       "      <th>Spurious2</th>\n",
       "      <td>0.000777</td>\n",
       "      <td>7.542234e-05</td>\n",
       "      <td>0.003124</td>\n",
       "      <td>0.088072</td>\n",
       "      <td>0.060386</td>\n",
       "    </tr>\n",
       "    <tr>\n",
       "      <th>...</th>\n",
       "      <td>...</td>\n",
       "      <td>...</td>\n",
       "      <td>...</td>\n",
       "      <td>...</td>\n",
       "      <td>...</td>\n",
       "    </tr>\n",
       "    <tr>\n",
       "      <th>Spurious94</th>\n",
       "      <td>0.000182</td>\n",
       "      <td>-2.232366e-07</td>\n",
       "      <td>0.000780</td>\n",
       "      <td>-0.001378</td>\n",
       "      <td>0.061282</td>\n",
       "    </tr>\n",
       "    <tr>\n",
       "      <th>Spurious95</th>\n",
       "      <td>0.000149</td>\n",
       "      <td>-1.033008e-06</td>\n",
       "      <td>0.000386</td>\n",
       "      <td>-0.011474</td>\n",
       "      <td>0.039073</td>\n",
       "    </tr>\n",
       "    <tr>\n",
       "      <th>Spurious96</th>\n",
       "      <td>0.000192</td>\n",
       "      <td>6.161886e-06</td>\n",
       "      <td>0.000781</td>\n",
       "      <td>0.053105</td>\n",
       "      <td>0.049396</td>\n",
       "    </tr>\n",
       "    <tr>\n",
       "      <th>Spurious97</th>\n",
       "      <td>0.000198</td>\n",
       "      <td>6.448959e-06</td>\n",
       "      <td>0.000655</td>\n",
       "      <td>0.050267</td>\n",
       "      <td>0.028628</td>\n",
       "    </tr>\n",
       "    <tr>\n",
       "      <th>Intercept</th>\n",
       "      <td>NaN</td>\n",
       "      <td>1.090633e-02</td>\n",
       "      <td>0.044991</td>\n",
       "      <td>0.010906</td>\n",
       "      <td>0.044991</td>\n",
       "    </tr>\n",
       "  </tbody>\n",
       "</table>\n",
       "<p>101 rows × 5 columns</p>\n",
       "</div>"
      ],
      "text/plain": [
       "                 PIP   Coefficient  Coefficient StdDev  \\\n",
       "Causal1     1.000000  1.035825e+00            0.037104   \n",
       "Causal2     0.999996 -4.488024e-01            0.050521   \n",
       "Causal3     0.820367  1.801171e-01            0.094278   \n",
       "Spurious1   0.000294  1.571512e-05            0.001182   \n",
       "Spurious2   0.000777  7.542234e-05            0.003124   \n",
       "...              ...           ...                 ...   \n",
       "Spurious94  0.000182 -2.232366e-07            0.000780   \n",
       "Spurious95  0.000149 -1.033008e-06            0.000386   \n",
       "Spurious96  0.000192  6.161886e-06            0.000781   \n",
       "Spurious97  0.000198  6.448959e-06            0.000655   \n",
       "Intercept        NaN  1.090633e-02            0.044991   \n",
       "\n",
       "            Conditional Coefficient  Conditional Coefficient StdDev  \n",
       "Causal1                    1.035825                        0.037104  \n",
       "Causal2                   -0.448804                        0.050514  \n",
       "Causal3                    0.220393                        0.044715  \n",
       "Spurious1                  0.045993                        0.044455  \n",
       "Spurious2                  0.088072                        0.060386  \n",
       "...                             ...                             ...  \n",
       "Spurious94                -0.001378                        0.061282  \n",
       "Spurious95                -0.011474                        0.039073  \n",
       "Spurious96                 0.053105                        0.049396  \n",
       "Spurious97                 0.050267                        0.028628  \n",
       "Intercept                  0.010906                        0.044991  \n",
       "\n",
       "[101 rows x 5 columns]"
      ]
     },
     "execution_count": 7,
     "metadata": {},
     "output_type": "execute_result"
    }
   ],
   "source": [
    "selector.summary"
   ]
  },
  {
   "cell_type": "markdown",
   "metadata": {},
   "source": [
    "For example the largest spurious PIP is given by:"
   ]
  },
  {
   "cell_type": "code",
   "execution_count": 8,
   "metadata": {},
   "outputs": [
    {
     "data": {
      "text/plain": [
       "0.0028088194868103058"
      ]
     },
     "execution_count": 8,
     "metadata": {},
     "output_type": "execute_result"
    }
   ],
   "source": [
    "selector.summary.PIP.values[3:-1].max()"
   ]
  },
  {
   "cell_type": "markdown",
   "metadata": {},
   "source": [
    "Some additional stats about the MCMC run are available in `selector.stats`:"
   ]
  },
  {
   "cell_type": "code",
   "execution_count": 9,
   "metadata": {},
   "outputs": [
    {
     "data": {
      "text/plain": [
       "{'Weight quantiles': '5/10/20/50/90/95:  4.28e-303  7.15e-06  6.14e-01  1.71e+01  2.51e+01  2.51e+01',\n",
       " 'Weight moments': 'mean/std/min/max:  1.29e+01  1.13e+01  4.28e-303  2.51e+01',\n",
       " 'Elapsed MCMC time': '3.9 seconds',\n",
       " 'Mean iteration time': '1.309 ms',\n",
       " 'Number of retained samples': 2000,\n",
       " 'Number of burn-in samples': 1000}"
      ]
     },
     "execution_count": 9,
     "metadata": {},
     "output_type": "execute_result"
    }
   ],
   "source": [
    "selector.stats"
   ]
  },
  {
   "cell_type": "markdown",
   "metadata": {},
   "source": [
    "## Using per-covariate prior inclusion probabilities\n",
    "\n",
    "If we have additional prior information about which covariates are more or less likely a priori, \n",
    "we can provide this information by setting the `S` argument to a `pandas.Series` of covariate-specific\n",
    "prior inclusion probabilities."
   ]
  },
  {
   "cell_type": "code",
   "execution_count": 10,
   "metadata": {},
   "outputs": [],
   "source": [
    "# let's make the 3rd covariate *less likely* a priori\n",
    "S = np.ones(num_covariates) / num_covariates\n",
    "S[2] *= 1.0e-4\n",
    "S = pd.Series(S, index=columns[1:])\n",
    "selector = NormalLikelihoodVariableSelector(dataframe, 'Response',\n",
    "                                            S=S, prior=\"isotropic\")"
   ]
  },
  {
   "cell_type": "code",
   "execution_count": 11,
   "metadata": {},
   "outputs": [
    {
     "data": {
      "application/vnd.jupyter.widget-view+json": {
       "model_id": "6fbbec3b9fce4ee4b24c085300aa1390",
       "version_major": 2,
       "version_minor": 0
      },
      "text/plain": [
       "  0%|          | 0/3000 [00:00<?, ?it/s]"
      ]
     },
     "metadata": {},
     "output_type": "display_data"
    }
   ],
   "source": [
    "selector.run(T=2000, T_burnin=1000, verbosity='bar', seed=2)"
   ]
  },
  {
   "cell_type": "markdown",
   "metadata": {},
   "source": [
    "### As expected, the PIP of the 3rd covariate is now very small"
   ]
  },
  {
   "cell_type": "code",
   "execution_count": 12,
   "metadata": {},
   "outputs": [
    {
     "data": {
      "text/html": [
       "<div>\n",
       "<style scoped>\n",
       "    .dataframe tbody tr th:only-of-type {\n",
       "        vertical-align: middle;\n",
       "    }\n",
       "\n",
       "    .dataframe tbody tr th {\n",
       "        vertical-align: top;\n",
       "    }\n",
       "\n",
       "    .dataframe thead th {\n",
       "        text-align: right;\n",
       "    }\n",
       "</style>\n",
       "<table border=\"1\" class=\"dataframe\">\n",
       "  <thead>\n",
       "    <tr style=\"text-align: right;\">\n",
       "      <th></th>\n",
       "      <th>PIP</th>\n",
       "      <th>Coefficient</th>\n",
       "      <th>Coefficient StdDev</th>\n",
       "      <th>Conditional Coefficient</th>\n",
       "      <th>Conditional Coefficient StdDev</th>\n",
       "    </tr>\n",
       "  </thead>\n",
       "  <tbody>\n",
       "    <tr>\n",
       "      <th>Causal1</th>\n",
       "      <td>1.000000</td>\n",
       "      <td>1.053331</td>\n",
       "      <td>0.043744</td>\n",
       "      <td>1.053331</td>\n",
       "      <td>0.043744</td>\n",
       "    </tr>\n",
       "    <tr>\n",
       "      <th>Causal2</th>\n",
       "      <td>0.999977</td>\n",
       "      <td>-0.446203</td>\n",
       "      <td>0.060017</td>\n",
       "      <td>-0.446214</td>\n",
       "      <td>0.059977</td>\n",
       "    </tr>\n",
       "    <tr>\n",
       "      <th>Causal3</th>\n",
       "      <td>0.000449</td>\n",
       "      <td>0.000098</td>\n",
       "      <td>0.005025</td>\n",
       "      <td>0.239238</td>\n",
       "      <td>0.065160</td>\n",
       "    </tr>\n",
       "    <tr>\n",
       "      <th>Spurious1</th>\n",
       "      <td>0.000202</td>\n",
       "      <td>0.000004</td>\n",
       "      <td>0.000503</td>\n",
       "      <td>0.044658</td>\n",
       "      <td>0.033109</td>\n",
       "    </tr>\n",
       "    <tr>\n",
       "      <th>Spurious2</th>\n",
       "      <td>0.000840</td>\n",
       "      <td>0.000143</td>\n",
       "      <td>0.004322</td>\n",
       "      <td>0.106120</td>\n",
       "      <td>0.051495</td>\n",
       "    </tr>\n",
       "    <tr>\n",
       "      <th>...</th>\n",
       "      <td>...</td>\n",
       "      <td>...</td>\n",
       "      <td>...</td>\n",
       "      <td>...</td>\n",
       "      <td>...</td>\n",
       "    </tr>\n",
       "    <tr>\n",
       "      <th>Spurious94</th>\n",
       "      <td>0.000216</td>\n",
       "      <td>0.000007</td>\n",
       "      <td>0.000701</td>\n",
       "      <td>0.033538</td>\n",
       "      <td>0.035759</td>\n",
       "    </tr>\n",
       "    <tr>\n",
       "      <th>Spurious95</th>\n",
       "      <td>0.000147</td>\n",
       "      <td>-0.000002</td>\n",
       "      <td>0.000755</td>\n",
       "      <td>-0.016992</td>\n",
       "      <td>0.062673</td>\n",
       "    </tr>\n",
       "    <tr>\n",
       "      <th>Spurious96</th>\n",
       "      <td>0.000189</td>\n",
       "      <td>-0.000003</td>\n",
       "      <td>0.000552</td>\n",
       "      <td>-0.018755</td>\n",
       "      <td>0.041474</td>\n",
       "    </tr>\n",
       "    <tr>\n",
       "      <th>Spurious97</th>\n",
       "      <td>0.000156</td>\n",
       "      <td>0.000001</td>\n",
       "      <td>0.000680</td>\n",
       "      <td>0.007148</td>\n",
       "      <td>0.053374</td>\n",
       "    </tr>\n",
       "    <tr>\n",
       "      <th>Intercept</th>\n",
       "      <td>NaN</td>\n",
       "      <td>0.029199</td>\n",
       "      <td>0.054816</td>\n",
       "      <td>0.029199</td>\n",
       "      <td>0.054816</td>\n",
       "    </tr>\n",
       "  </tbody>\n",
       "</table>\n",
       "<p>101 rows × 5 columns</p>\n",
       "</div>"
      ],
      "text/plain": [
       "                 PIP  Coefficient  Coefficient StdDev  \\\n",
       "Causal1     1.000000     1.053331            0.043744   \n",
       "Causal2     0.999977    -0.446203            0.060017   \n",
       "Causal3     0.000449     0.000098            0.005025   \n",
       "Spurious1   0.000202     0.000004            0.000503   \n",
       "Spurious2   0.000840     0.000143            0.004322   \n",
       "...              ...          ...                 ...   \n",
       "Spurious94  0.000216     0.000007            0.000701   \n",
       "Spurious95  0.000147    -0.000002            0.000755   \n",
       "Spurious96  0.000189    -0.000003            0.000552   \n",
       "Spurious97  0.000156     0.000001            0.000680   \n",
       "Intercept        NaN     0.029199            0.054816   \n",
       "\n",
       "            Conditional Coefficient  Conditional Coefficient StdDev  \n",
       "Causal1                    1.053331                        0.043744  \n",
       "Causal2                   -0.446214                        0.059977  \n",
       "Causal3                    0.239238                        0.065160  \n",
       "Spurious1                  0.044658                        0.033109  \n",
       "Spurious2                  0.106120                        0.051495  \n",
       "...                             ...                             ...  \n",
       "Spurious94                 0.033538                        0.035759  \n",
       "Spurious95                -0.016992                        0.062673  \n",
       "Spurious96                -0.018755                        0.041474  \n",
       "Spurious97                 0.007148                        0.053374  \n",
       "Intercept                  0.029199                        0.054816  \n",
       "\n",
       "[101 rows x 5 columns]"
      ]
     },
     "execution_count": 12,
     "metadata": {},
     "output_type": "execute_result"
    }
   ],
   "source": [
    "selector.summary"
   ]
  }
 ],
 "metadata": {
  "kernelspec": {
   "display_name": "Python 3",
   "language": "python",
   "name": "python3"
  },
  "language_info": {
   "codemirror_mode": {
    "name": "ipython",
    "version": 3
   },
   "file_extension": ".py",
   "mimetype": "text/x-python",
   "name": "python",
   "nbconvert_exporter": "python",
   "pygments_lexer": "ipython3",
   "version": "3.8.2"
  }
 },
 "nbformat": 4,
 "nbformat_minor": 4
}
