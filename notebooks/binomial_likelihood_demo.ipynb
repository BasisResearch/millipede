{
 "cells": [
  {
   "cell_type": "markdown",
   "metadata": {},
   "source": [
    "# Usage demo for BinomialLikelihoodVariableSelector"
   ]
  },
  {
   "cell_type": "code",
   "execution_count": 1,
   "metadata": {},
   "outputs": [],
   "source": [
    "import numpy as np\n",
    "from scipy.special import expit\n",
    "import pandas as pd\n",
    "from millipede import BinomialLikelihoodVariableSelector"
   ]
  },
  {
   "cell_type": "markdown",
   "metadata": {},
   "source": [
    "## First we create a demo dataset with 3 causal and 97 spurious features"
   ]
  },
  {
   "cell_type": "code",
   "execution_count": 2,
   "metadata": {},
   "outputs": [
    {
     "name": "stdout",
     "output_type": "stream",
     "text": [
      "true_coefficients:\n",
      " [ 1.   -0.5   0.25  0.    0.    0.    0.    0.    0.    0.    0.    0.\n",
      "  0.    0.    0.    0.    0.    0.    0.    0.    0.    0.    0.    0.\n",
      "  0.    0.    0.    0.    0.    0.    0.    0.    0.    0.    0.    0.\n",
      "  0.    0.    0.    0.    0.    0.    0.    0.    0.    0.    0.    0.\n",
      "  0.    0.    0.    0.    0.    0.    0.    0.    0.    0.    0.    0.\n",
      "  0.    0.    0.    0.    0.    0.    0.    0.    0.    0.    0.    0.\n",
      "  0.    0.    0.    0.    0.    0.    0.    0.    0.    0.    0.    0.\n",
      "  0.    0.    0.    0.    0.    0.    0.    0.    0.    0.    0.    0.\n",
      "  0.    0.    0.    0.  ]\n"
     ]
    }
   ],
   "source": [
    "num_datapoints = 100\n",
    "num_covariates = 100\n",
    "\n",
    "# create covariates\n",
    "X = np.random.RandomState(0).randn(num_datapoints * num_covariates)\n",
    "X = X.reshape((num_datapoints, num_covariates))\n",
    "\n",
    "# specify the true causal coefficients\n",
    "true_coefficients = np.array([1.0, -0.5, 0.25] + [0.0] * 97)\n",
    "print(\"true_coefficients:\\n\", true_coefficients)"
   ]
  },
  {
   "cell_type": "code",
   "execution_count": 3,
   "metadata": {},
   "outputs": [
    {
     "name": "stdout",
     "output_type": "stream",
     "text": [
      "Observed counts Y:\n",
      " [18 17 18  1 13 16  1  4 15  5 10  8 14  7  1 10 12  5 18  8  9 14  7 10\n",
      "  9  6 16  2  7  7 18 16  6  3  4  7 11  7  3 10 14  3  7  8 13 16 15  2\n",
      " 16 18 16 11  8 16 12  2 13  2 10  8 20  4 13 15 18 12 16 10  9  8  7 16\n",
      "  4  7 16  4  8  6 11  9 13 14 12 13 19 16 16 14 10  2 18 10 18  9 18  2\n",
      " 10 10 17  1]\n",
      "\n",
      "X.shape:  (100, 100)   Y.shape:  (100,)   total_counts.shape:  (100,)   YTCX.shape:  (100, 102)\n"
     ]
    }
   ],
   "source": [
    "# let's suppose each data point corresponds to a Binomial observation with a total count of 20\n",
    "total_counts = 20 * np.ones(num_datapoints, dtype=np.int64)\n",
    "\n",
    "# compute responses using the true (generalized) linear model\n",
    "binomial_probs = expit(X @ true_coefficients)\n",
    "Y = np.random.RandomState(1).binomial(total_counts, binomial_probs)\n",
    "print(\"Observed counts Y:\\n\", Y)\n",
    "\n",
    "# put the covariates, responses, and total count vector into a single numpy array\n",
    "YTCX = np.concatenate([Y[:, None], total_counts[:, None], X], axis=-1)\n",
    "print(\"\\nX.shape: \", X.shape, \"  Y.shape: \", Y.shape, \n",
    "      \"  total_counts.shape: \", total_counts.shape, \"  YTCX.shape: \", YTCX.shape)"
   ]
  },
  {
   "cell_type": "markdown",
   "metadata": {},
   "source": [
    "## Then we package the data as a Pandas DataFrame, giving each covariate a  unique name"
   ]
  },
  {
   "cell_type": "code",
   "execution_count": 4,
   "metadata": {},
   "outputs": [
    {
     "data": {
      "text/html": [
       "<div>\n",
       "<style scoped>\n",
       "    .dataframe tbody tr th:only-of-type {\n",
       "        vertical-align: middle;\n",
       "    }\n",
       "\n",
       "    .dataframe tbody tr th {\n",
       "        vertical-align: top;\n",
       "    }\n",
       "\n",
       "    .dataframe thead th {\n",
       "        text-align: right;\n",
       "    }\n",
       "</style>\n",
       "<table border=\"1\" class=\"dataframe\">\n",
       "  <thead>\n",
       "    <tr style=\"text-align: right;\">\n",
       "      <th></th>\n",
       "      <th>Response</th>\n",
       "      <th>TotalCount</th>\n",
       "      <th>Causal1</th>\n",
       "      <th>Causal2</th>\n",
       "      <th>Causal3</th>\n",
       "      <th>Spurious1</th>\n",
       "      <th>Spurious2</th>\n",
       "      <th>Spurious3</th>\n",
       "      <th>Spurious4</th>\n",
       "      <th>Spurious5</th>\n",
       "      <th>...</th>\n",
       "      <th>Spurious88</th>\n",
       "      <th>Spurious89</th>\n",
       "      <th>Spurious90</th>\n",
       "      <th>Spurious91</th>\n",
       "      <th>Spurious92</th>\n",
       "      <th>Spurious93</th>\n",
       "      <th>Spurious94</th>\n",
       "      <th>Spurious95</th>\n",
       "      <th>Spurious96</th>\n",
       "      <th>Spurious97</th>\n",
       "    </tr>\n",
       "  </thead>\n",
       "  <tbody>\n",
       "    <tr>\n",
       "      <th>0</th>\n",
       "      <td>18.0</td>\n",
       "      <td>20.0</td>\n",
       "      <td>1.764052</td>\n",
       "      <td>0.400157</td>\n",
       "      <td>0.978738</td>\n",
       "      <td>2.240893</td>\n",
       "      <td>1.867558</td>\n",
       "      <td>-0.977278</td>\n",
       "      <td>0.950088</td>\n",
       "      <td>-0.151357</td>\n",
       "      <td>...</td>\n",
       "      <td>-0.403177</td>\n",
       "      <td>1.222445</td>\n",
       "      <td>0.208275</td>\n",
       "      <td>0.976639</td>\n",
       "      <td>0.356366</td>\n",
       "      <td>0.706573</td>\n",
       "      <td>0.010500</td>\n",
       "      <td>1.785870</td>\n",
       "      <td>0.126912</td>\n",
       "      <td>0.401989</td>\n",
       "    </tr>\n",
       "    <tr>\n",
       "      <th>1</th>\n",
       "      <td>17.0</td>\n",
       "      <td>20.0</td>\n",
       "      <td>1.883151</td>\n",
       "      <td>-1.347759</td>\n",
       "      <td>-1.270485</td>\n",
       "      <td>0.969397</td>\n",
       "      <td>-1.173123</td>\n",
       "      <td>1.943621</td>\n",
       "      <td>-0.413619</td>\n",
       "      <td>-0.747455</td>\n",
       "      <td>...</td>\n",
       "      <td>-1.292857</td>\n",
       "      <td>0.267051</td>\n",
       "      <td>-0.039283</td>\n",
       "      <td>-1.168093</td>\n",
       "      <td>0.523277</td>\n",
       "      <td>-0.171546</td>\n",
       "      <td>0.771791</td>\n",
       "      <td>0.823504</td>\n",
       "      <td>2.163236</td>\n",
       "      <td>1.336528</td>\n",
       "    </tr>\n",
       "    <tr>\n",
       "      <th>2</th>\n",
       "      <td>18.0</td>\n",
       "      <td>20.0</td>\n",
       "      <td>-0.369182</td>\n",
       "      <td>-0.239379</td>\n",
       "      <td>1.099660</td>\n",
       "      <td>0.655264</td>\n",
       "      <td>0.640132</td>\n",
       "      <td>-1.616956</td>\n",
       "      <td>-0.024326</td>\n",
       "      <td>-0.738031</td>\n",
       "      <td>...</td>\n",
       "      <td>-0.628088</td>\n",
       "      <td>-0.481027</td>\n",
       "      <td>2.303917</td>\n",
       "      <td>-1.060016</td>\n",
       "      <td>-0.135950</td>\n",
       "      <td>1.136891</td>\n",
       "      <td>0.097725</td>\n",
       "      <td>0.582954</td>\n",
       "      <td>-0.399449</td>\n",
       "      <td>0.370056</td>\n",
       "    </tr>\n",
       "    <tr>\n",
       "      <th>3</th>\n",
       "      <td>1.0</td>\n",
       "      <td>20.0</td>\n",
       "      <td>-1.306527</td>\n",
       "      <td>1.658131</td>\n",
       "      <td>-0.118164</td>\n",
       "      <td>-0.680178</td>\n",
       "      <td>0.666383</td>\n",
       "      <td>-0.460720</td>\n",
       "      <td>-1.334258</td>\n",
       "      <td>-1.346718</td>\n",
       "      <td>...</td>\n",
       "      <td>0.567290</td>\n",
       "      <td>-0.222675</td>\n",
       "      <td>-0.353432</td>\n",
       "      <td>-1.616474</td>\n",
       "      <td>-0.291837</td>\n",
       "      <td>-0.761492</td>\n",
       "      <td>0.857924</td>\n",
       "      <td>1.141102</td>\n",
       "      <td>1.466579</td>\n",
       "      <td>0.852552</td>\n",
       "    </tr>\n",
       "    <tr>\n",
       "      <th>4</th>\n",
       "      <td>13.0</td>\n",
       "      <td>20.0</td>\n",
       "      <td>-0.598654</td>\n",
       "      <td>-1.115897</td>\n",
       "      <td>0.766663</td>\n",
       "      <td>0.356293</td>\n",
       "      <td>-1.768538</td>\n",
       "      <td>0.355482</td>\n",
       "      <td>0.814520</td>\n",
       "      <td>0.058926</td>\n",
       "      <td>...</td>\n",
       "      <td>-1.029935</td>\n",
       "      <td>-0.349943</td>\n",
       "      <td>1.100284</td>\n",
       "      <td>1.298022</td>\n",
       "      <td>2.696224</td>\n",
       "      <td>-0.073925</td>\n",
       "      <td>-0.658553</td>\n",
       "      <td>-0.514234</td>\n",
       "      <td>-1.018042</td>\n",
       "      <td>-0.077855</td>\n",
       "    </tr>\n",
       "  </tbody>\n",
       "</table>\n",
       "<p>5 rows × 102 columns</p>\n",
       "</div>"
      ],
      "text/plain": [
       "   Response  TotalCount   Causal1   Causal2   Causal3  Spurious1  Spurious2  \\\n",
       "0      18.0        20.0  1.764052  0.400157  0.978738   2.240893   1.867558   \n",
       "1      17.0        20.0  1.883151 -1.347759 -1.270485   0.969397  -1.173123   \n",
       "2      18.0        20.0 -0.369182 -0.239379  1.099660   0.655264   0.640132   \n",
       "3       1.0        20.0 -1.306527  1.658131 -0.118164  -0.680178   0.666383   \n",
       "4      13.0        20.0 -0.598654 -1.115897  0.766663   0.356293  -1.768538   \n",
       "\n",
       "   Spurious3  Spurious4  Spurious5  ...  Spurious88  Spurious89  Spurious90  \\\n",
       "0  -0.977278   0.950088  -0.151357  ...   -0.403177    1.222445    0.208275   \n",
       "1   1.943621  -0.413619  -0.747455  ...   -1.292857    0.267051   -0.039283   \n",
       "2  -1.616956  -0.024326  -0.738031  ...   -0.628088   -0.481027    2.303917   \n",
       "3  -0.460720  -1.334258  -1.346718  ...    0.567290   -0.222675   -0.353432   \n",
       "4   0.355482   0.814520   0.058926  ...   -1.029935   -0.349943    1.100284   \n",
       "\n",
       "   Spurious91  Spurious92  Spurious93  Spurious94  Spurious95  Spurious96  \\\n",
       "0    0.976639    0.356366    0.706573    0.010500    1.785870    0.126912   \n",
       "1   -1.168093    0.523277   -0.171546    0.771791    0.823504    2.163236   \n",
       "2   -1.060016   -0.135950    1.136891    0.097725    0.582954   -0.399449   \n",
       "3   -1.616474   -0.291837   -0.761492    0.857924    1.141102    1.466579   \n",
       "4    1.298022    2.696224   -0.073925   -0.658553   -0.514234   -1.018042   \n",
       "\n",
       "   Spurious97  \n",
       "0    0.401989  \n",
       "1    1.336528  \n",
       "2    0.370056  \n",
       "3    0.852552  \n",
       "4   -0.077855  \n",
       "\n",
       "[5 rows x 102 columns]"
      ]
     },
     "execution_count": 4,
     "metadata": {},
     "output_type": "execute_result"
    }
   ],
   "source": [
    "columns = ['Response', 'TotalCount', 'Causal1', 'Causal2', 'Causal3']\n",
    "columns += ['Spurious{}'.format(k) for k in range(1, 98)]\n",
    "dataframe = pd.DataFrame(YTCX, columns=columns)\n",
    "dataframe.head(5)"
   ]
  },
  {
   "cell_type": "markdown",
   "metadata": {},
   "source": [
    "## Next we create a VariableSelector object appropriate for our count-valued responses"
   ]
  },
  {
   "cell_type": "code",
   "execution_count": 5,
   "metadata": {},
   "outputs": [],
   "source": [
    "selector = BinomialLikelihoodVariableSelector(dataframe,    # pass in the data\n",
    "                                              'Response',   # indicate the column of responses\n",
    "                                              'TotalCount', # indicate the column of total counts\n",
    "                                              S=1,          # specify the expected number of covariates to include a priori\n",
    "                                              )"
   ]
  },
  {
   "cell_type": "markdown",
   "metadata": {},
   "source": [
    "## Finally we run the MCMC algorithm to compute posterior inclusion probabilities (PIPs) and other posterior quanties of interest"
   ]
  },
  {
   "cell_type": "code",
   "execution_count": 6,
   "metadata": {},
   "outputs": [],
   "source": [
    "selector.run(T=1000, T_burnin=500, verbose=False, seed=2)"
   ]
  },
  {
   "cell_type": "markdown",
   "metadata": {},
   "source": [
    "## The results are available in the selector.summary DataFrame\n",
    "\n",
    "- As expected only the 3 causal covariates have large PIPs. \n",
    "- In addition the true coefficients are identified correctly (up to noise).\n",
    "- Note that the intercept term does not have a corresponding PIP, since it is always included in the model by assumption."
   ]
  },
  {
   "cell_type": "code",
   "execution_count": 7,
   "metadata": {},
   "outputs": [
    {
     "data": {
      "text/html": [
       "<div>\n",
       "<style scoped>\n",
       "    .dataframe tbody tr th:only-of-type {\n",
       "        vertical-align: middle;\n",
       "    }\n",
       "\n",
       "    .dataframe tbody tr th {\n",
       "        vertical-align: top;\n",
       "    }\n",
       "\n",
       "    .dataframe thead th {\n",
       "        text-align: right;\n",
       "    }\n",
       "</style>\n",
       "<table border=\"1\" class=\"dataframe\">\n",
       "  <thead>\n",
       "    <tr style=\"text-align: right;\">\n",
       "      <th></th>\n",
       "      <th>PIP</th>\n",
       "      <th>Coefficient</th>\n",
       "      <th>Coefficient StdDev</th>\n",
       "      <th>Conditional Coefficient</th>\n",
       "      <th>Conditional Coefficient StdDev</th>\n",
       "    </tr>\n",
       "  </thead>\n",
       "  <tbody>\n",
       "    <tr>\n",
       "      <th>Causal1</th>\n",
       "      <td>1.000000</td>\n",
       "      <td>1.016604e+00</td>\n",
       "      <td>0.054659</td>\n",
       "      <td>1.016604</td>\n",
       "      <td>5.465915e-02</td>\n",
       "    </tr>\n",
       "    <tr>\n",
       "      <th>Causal2</th>\n",
       "      <td>1.000000</td>\n",
       "      <td>-5.744908e-01</td>\n",
       "      <td>0.059060</td>\n",
       "      <td>-0.574491</td>\n",
       "      <td>5.906017e-02</td>\n",
       "    </tr>\n",
       "    <tr>\n",
       "      <th>Causal3</th>\n",
       "      <td>0.988069</td>\n",
       "      <td>2.728325e-01</td>\n",
       "      <td>0.063074</td>\n",
       "      <td>0.277914</td>\n",
       "      <td>5.138318e-02</td>\n",
       "    </tr>\n",
       "    <tr>\n",
       "      <th>Spurious1</th>\n",
       "      <td>0.000079</td>\n",
       "      <td>0.000000e+00</td>\n",
       "      <td>0.000000</td>\n",
       "      <td>0.000000</td>\n",
       "      <td>0.000000e+00</td>\n",
       "    </tr>\n",
       "    <tr>\n",
       "      <th>Spurious2</th>\n",
       "      <td>0.000051</td>\n",
       "      <td>5.896582e-07</td>\n",
       "      <td>0.000133</td>\n",
       "      <td>0.030001</td>\n",
       "      <td>1.357624e-09</td>\n",
       "    </tr>\n",
       "    <tr>\n",
       "      <th>...</th>\n",
       "      <td>...</td>\n",
       "      <td>...</td>\n",
       "      <td>...</td>\n",
       "      <td>...</td>\n",
       "      <td>...</td>\n",
       "    </tr>\n",
       "    <tr>\n",
       "      <th>Spurious94</th>\n",
       "      <td>0.000058</td>\n",
       "      <td>-1.645650e-06</td>\n",
       "      <td>0.000343</td>\n",
       "      <td>-0.022653</td>\n",
       "      <td>3.329725e-02</td>\n",
       "    </tr>\n",
       "    <tr>\n",
       "      <th>Spurious95</th>\n",
       "      <td>0.000120</td>\n",
       "      <td>0.000000e+00</td>\n",
       "      <td>0.000000</td>\n",
       "      <td>0.000000</td>\n",
       "      <td>0.000000e+00</td>\n",
       "    </tr>\n",
       "    <tr>\n",
       "      <th>Spurious96</th>\n",
       "      <td>0.000077</td>\n",
       "      <td>5.546312e-06</td>\n",
       "      <td>0.000544</td>\n",
       "      <td>0.041449</td>\n",
       "      <td>2.227512e-02</td>\n",
       "    </tr>\n",
       "    <tr>\n",
       "      <th>Spurious97</th>\n",
       "      <td>0.000058</td>\n",
       "      <td>5.773681e-07</td>\n",
       "      <td>0.000327</td>\n",
       "      <td>0.012308</td>\n",
       "      <td>4.613108e-02</td>\n",
       "    </tr>\n",
       "    <tr>\n",
       "      <th>Intercept</th>\n",
       "      <td>NaN</td>\n",
       "      <td>9.749191e-02</td>\n",
       "      <td>0.051189</td>\n",
       "      <td>0.097492</td>\n",
       "      <td>5.118927e-02</td>\n",
       "    </tr>\n",
       "  </tbody>\n",
       "</table>\n",
       "<p>101 rows × 5 columns</p>\n",
       "</div>"
      ],
      "text/plain": [
       "                 PIP   Coefficient  Coefficient StdDev  \\\n",
       "Causal1     1.000000  1.016604e+00            0.054659   \n",
       "Causal2     1.000000 -5.744908e-01            0.059060   \n",
       "Causal3     0.988069  2.728325e-01            0.063074   \n",
       "Spurious1   0.000079  0.000000e+00            0.000000   \n",
       "Spurious2   0.000051  5.896582e-07            0.000133   \n",
       "...              ...           ...                 ...   \n",
       "Spurious94  0.000058 -1.645650e-06            0.000343   \n",
       "Spurious95  0.000120  0.000000e+00            0.000000   \n",
       "Spurious96  0.000077  5.546312e-06            0.000544   \n",
       "Spurious97  0.000058  5.773681e-07            0.000327   \n",
       "Intercept        NaN  9.749191e-02            0.051189   \n",
       "\n",
       "            Conditional Coefficient  Conditional Coefficient StdDev  \n",
       "Causal1                    1.016604                    5.465915e-02  \n",
       "Causal2                   -0.574491                    5.906017e-02  \n",
       "Causal3                    0.277914                    5.138318e-02  \n",
       "Spurious1                  0.000000                    0.000000e+00  \n",
       "Spurious2                  0.030001                    1.357624e-09  \n",
       "...                             ...                             ...  \n",
       "Spurious94                -0.022653                    3.329725e-02  \n",
       "Spurious95                 0.000000                    0.000000e+00  \n",
       "Spurious96                 0.041449                    2.227512e-02  \n",
       "Spurious97                 0.012308                    4.613108e-02  \n",
       "Intercept                  0.097492                    5.118927e-02  \n",
       "\n",
       "[101 rows x 5 columns]"
      ]
     },
     "execution_count": 7,
     "metadata": {},
     "output_type": "execute_result"
    }
   ],
   "source": [
    "selector.summary"
   ]
  },
  {
   "cell_type": "markdown",
   "metadata": {},
   "source": [
    "For example the largest spurious PIP is given by:"
   ]
  },
  {
   "cell_type": "code",
   "execution_count": 8,
   "metadata": {},
   "outputs": [
    {
     "data": {
      "text/plain": [
       "0.005362170242442198"
      ]
     },
     "execution_count": 8,
     "metadata": {},
     "output_type": "execute_result"
    }
   ],
   "source": [
    "selector.summary.PIP.values[3:-1].max()"
   ]
  },
  {
   "cell_type": "markdown",
   "metadata": {},
   "source": [
    "Some additional stats about the MCMC run are available in `selector.stats`:"
   ]
  },
  {
   "cell_type": "code",
   "execution_count": 9,
   "metadata": {},
   "outputs": [
    {
     "data": {
      "text/plain": [
       "{'Weight quantiles': '5/10/20/50/90/95:  1.92e-16  1.63e-02  2.17e-01  1.45e+01  1.45e+01  1.45e+01',\n",
       " 'Weight moments': 'mean/std/min/max:  9.26e+00  6.77e+00  1.92e-16  1.49e+01',\n",
       " 'Elapsed MCMC time': '2.1 seconds',\n",
       " 'Mean iteration time': '1.384 ms',\n",
       " 'Number of retained samples': 1000,\n",
       " 'Number of burn-in samples': 500,\n",
       " 'Adapted xi value': '2.960',\n",
       " 'Polya-Gamma MH stats': 'Mean acc. prob.: 0.881  Accepted/Attempted: 257/282'}"
      ]
     },
     "execution_count": 9,
     "metadata": {},
     "output_type": "execute_result"
    }
   ],
   "source": [
    "selector.stats"
   ]
  }
 ],
 "metadata": {
  "kernelspec": {
   "display_name": "Python 3",
   "language": "python",
   "name": "python3"
  },
  "language_info": {
   "codemirror_mode": {
    "name": "ipython",
    "version": 3
   },
   "file_extension": ".py",
   "mimetype": "text/x-python",
   "name": "python",
   "nbconvert_exporter": "python",
   "pygments_lexer": "ipython3",
   "version": "3.8.2"
  }
 },
 "nbformat": 4,
 "nbformat_minor": 4
}
